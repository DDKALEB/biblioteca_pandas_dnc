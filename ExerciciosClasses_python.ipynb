{
  "nbformat": 4,
  "nbformat_minor": 0,
  "metadata": {
    "colab": {
      "provenance": [],
      "authorship_tag": "ABX9TyM+QQ7oVT9HrZ9mvl0s5M8e",
      "include_colab_link": true
    },
    "kernelspec": {
      "name": "python3",
      "display_name": "Python 3"
    },
    "language_info": {
      "name": "python"
    }
  },
  "cells": [
    {
      "cell_type": "markdown",
      "metadata": {
        "id": "view-in-github",
        "colab_type": "text"
      },
      "source": [
        "<a href=\"https://colab.research.google.com/github/DDKALEB/biblioteca_pandas_dnc/blob/main/ExerciciosClasses_python.ipynb\" target=\"_parent\"><img src=\"https://colab.research.google.com/assets/colab-badge.svg\" alt=\"Open In Colab\"/></a>"
      ]
    },
    {
      "cell_type": "markdown",
      "source": [
        "Classe Bola: Crie uma classe que modele uma bola:\n",
        "\n",
        "Atributos: Cor, circunferência, material\n",
        "Métodos: trocaCor e mostraCor"
      ],
      "metadata": {
        "id": "kVod7vmbX-MQ"
      }
    },
    {
      "cell_type": "code",
      "source": [
        "class Bola:\n",
        "    def __init__(self, cor, circunferencia, material):\n",
        "        self.cor = cor\n",
        "        self.circunferencia = circunferencia\n",
        "        self.material = material\n",
        "\n",
        "    def trocaCor(self, nova_cor):\n",
        "        self.cor = nova_cor\n",
        "\n",
        "    def mostraCor(self):\n",
        "        print(\"A cor da bola é:\", self.cor)"
      ],
      "metadata": {
        "id": "dKHslz2NYJqS"
      },
      "execution_count": 2,
      "outputs": []
    },
    {
      "cell_type": "markdown",
      "source": [
        "Classe Quadrado: Crie uma classe que modele um quadrado:\n",
        "\n",
        "Atributos: Tamanho do lado\n",
        "Métodos: Mudar valor do Lado, Retornar valor do Lado e calcular Área;"
      ],
      "metadata": {
        "id": "k0i7jhZ2YQ_H"
      }
    },
    {
      "cell_type": "code",
      "source": [
        "class Quadrado:\n",
        "    def __init__(self, lado):\n",
        "        self.lado = lado\n",
        "\n",
        "    def mudar_valor_do_lado(self, novo_lado):\n",
        "        self.lado = novo_lado\n",
        "\n",
        "    def retornar_valor_do_lado(self):\n",
        "        return self.lado\n",
        "\n",
        "    def calcular_area(self):\n",
        "        return self.lado ** 2"
      ],
      "metadata": {
        "id": "giZGEAomYgI3"
      },
      "execution_count": 4,
      "outputs": []
    },
    {
      "cell_type": "markdown",
      "source": [
        "Explicação:\n",
        "\n",
        "A classe Quadrado tem um atributo: lado, que é inicializado no construtor __init__.\n",
        "O método mudar_valor_do_lado permite mudar o valor do lado do quadrado.\n",
        "O método retornar_valor_do_lado retorna o valor atual do lado do quadrado.\n",
        "O método calcular_area calcula e retorna a área do quadrado, que é igual ao quadrado do lado.\n",
        "Exemplo de uso:\n",
        "\n",
        "Note que os atributos da classe são acessados usando o operador . (ponto), como em quadrado.lado ou quadrado.retornar_valor_do_lado()."
      ],
      "metadata": {
        "id": "-KpjS9YyYpfC"
      }
    },
    {
      "cell_type": "code",
      "source": [
        "quadrado = Quadrado(5)\n",
        "print(quadrado.retornar_valor_do_lado())  # Saída: 5\n",
        "quadrado.mudar_valor_do_lado(10)\n",
        "print(quadrado.retornar_valor_do_lado())  # Saída: 10\n",
        "print(quadrado.calcular_area())  # Saída: 100"
      ],
      "metadata": {
        "colab": {
          "base_uri": "https://localhost:8080/"
        },
        "id": "nRHPGQstYuoq",
        "outputId": "ac27fb92-c9e2-4d0a-98ae-cb7562ae9a11"
      },
      "execution_count": 5,
      "outputs": [
        {
          "output_type": "stream",
          "name": "stdout",
          "text": [
            "5\n",
            "10\n",
            "100\n"
          ]
        }
      ]
    },
    {
      "cell_type": "markdown",
      "source": [
        "Classe Retangulo: Crie uma classe que modele um retangulo:\n",
        "\n",
        "Atributos: LadoA, LadoB (ou Comprimento e Largura, ou Base e Altura, a escolher)\n",
        "Métodos: Mudar valor dos lados, Retornar valor dos lados, calcular Área e calcular Perímetro;\n",
        "Crie um programa que utilize esta classe. Ele deve pedir ao usuário que informe as medidades de um local. Depois, deve criar um objeto com as medidas e calcular a quantidade de pisos e de rodapés necessárias para o local.\n"
      ],
      "metadata": {
        "id": "d1VrpOs5Y7iy"
      }
    },
    {
      "cell_type": "code",
      "source": [
        "class Retangulo:\n",
        "    def __init__(self, lado_a, lado_b):\n",
        "        self.lado_a = lado_a\n",
        "        self.lado_b = lado_b\n",
        "\n",
        "    def mudar_valor_dos_lados(self, novo_lado_a, novo_lado_b):\n",
        "        self.lado_a = novo_lado_a\n",
        "        self.lado_b = novo_lado_b\n",
        "\n",
        "    def retornar_valor_dos_lados(self):\n",
        "        return self.lado_a, self.lado_b\n",
        "\n",
        "    def calcular_area(self):\n",
        "        return self.lado_a * self.lado_b\n",
        "\n",
        "    def calcular_perimetro(self):\n",
        "        return 2 * (self.lado_a + self.lado_b)"
      ],
      "metadata": {
        "id": "C0kGh3Y_Y9Cf"
      },
      "execution_count": 6,
      "outputs": []
    },
    {
      "cell_type": "markdown",
      "source": [
        "Explicação:\n",
        "\n",
        "A classe Retangulo tem dois atributos: lado_a e lado_b, que são inicializados no construtor __init__.\n",
        "O método mudar_valor_dos_lados permite mudar os valores dos lados do retângulo.\n",
        "O método retornar_valor_dos_lados retorna os valores atuais dos lados do retângulo.\n",
        "O método calcular_area calcula e retorna a área do retângulo, que é igual ao produto dos lados.\n",
        "O método calcular_perimetro calcula e retorna o perímetro do retângulo, que é igual a 2 vezes a soma dos lados.\n",
        "Agora, aqui está o programa que utiliza esta classe:"
      ],
      "metadata": {
        "id": "r56lFUMyZSyn"
      }
    },
    {
      "cell_type": "code",
      "source": [
        "# Pedir ao usuário que informe as medidas do local\n",
        "lado_a = float(input(\"Informe o comprimento do local (em metros): \"))\n",
        "lado_b = float(input(\"Informe a largura do local (em metros): \"))\n",
        "\n",
        "# Criar um objeto com as medidas\n",
        "retangulo = Retangulo(lado_a, lado_b)\n",
        "\n",
        "# Calcular a área do local\n",
        "area = retangulo.calcular_area()\n",
        "\n",
        "# Calcular a quantidade de pisos necessários\n",
        "pisos_por_metro_quadrado = 1  # suponha que um piso cobre 1 metro quadrado\n",
        "quantidade_pisos = area * pisos_por_metro_quadrado\n",
        "\n",
        "# Calcular a quantidade de rodapés necessários\n",
        "perimetro = retangulo.calcular_perimetro()\n",
        "rodapes_por_metro = 1  # suponha que um rodapé tem 1 metro de comprimento\n",
        "quantidade_rodapes = perimetro * rodapes_por_metro\n",
        "\n",
        "# Imprimir os resultados\n",
        "print(\"Área do local:\", area, \"metros quadrados\")\n",
        "print(\"Quantidade de pisos necessários:\", quantidade_pisos)\n",
        "print(\"Quantidade de rodapés necessários:\", quantidade_rodapes)"
      ],
      "metadata": {
        "colab": {
          "base_uri": "https://localhost:8080/"
        },
        "id": "7gCXNiOMZX50",
        "outputId": "c5760a7e-0cbd-47cb-840c-2eafb5236cc8"
      },
      "execution_count": 8,
      "outputs": [
        {
          "output_type": "stream",
          "name": "stdout",
          "text": [
            "Informe o comprimento do local (em metros): 4\n",
            "Informe a largura do local (em metros): 5\n",
            "Área do local: 20.0 metros quadrados\n",
            "Quantidade de pisos necessários: 20.0\n",
            "Quantidade de rodapés necessários: 18.0\n"
          ]
        }
      ]
    },
    {
      "cell_type": "markdown",
      "source": [
        "Este programa pede ao usuário que informe as medidas do local (comprimento e largura) e cria um objeto Retangulo com essas medidas. Em seguida, calcula a área do local e a quantidade de pisos e rodapés necessários para cobrir o local. Finalmente, imprime os resultados."
      ],
      "metadata": {
        "id": "l-KDXy1BZbkq"
      }
    },
    {
      "cell_type": "markdown",
      "source": [
        "Classe Pessoa: Crie uma classe que modele uma pessoa:\n",
        "\n",
        "Atributos: nome, idade, peso e altura\n",
        "Métodos: Envelhercer, engordar, emagrecer, crescer. Obs: Por padrão, a cada ano que nossa pessoa envelhece, sendo a idade dela menor que 21 anos, ela deve crescer 0,5 cm."
      ],
      "metadata": {
        "id": "FhUqCt9raIar"
      }
    },
    {
      "cell_type": "code",
      "source": [
        "class Pessoa:\n",
        "    def __init__(self, nome, idade, peso, altura):\n",
        "        self.nome = nome\n",
        "        self.idade = idade\n",
        "        self.peso = peso\n",
        "        self.altura = altura\n",
        "\n",
        "    def envelhecer(self, anos):\n",
        "        self.idade += anos\n",
        "        if self.idade < 21:\n",
        "            self.altura += anos * 0.5\n",
        "\n",
        "    def engordar(self, kg):\n",
        "        self.peso += kg\n",
        "\n",
        "    def emagrecer(self, kg):\n",
        "        self.peso -= kg\n",
        "\n",
        "    def crescer(self, cm):\n",
        "        self.altura += cm"
      ],
      "metadata": {
        "id": "UYpcS4_RaJjS"
      },
      "execution_count": 9,
      "outputs": []
    },
    {
      "cell_type": "markdown",
      "source": [
        "Explicação:\n",
        "\n",
        "A classe Pessoa tem quatro atributos: nome, idade, peso e altura, que são inicializados no construtor __init__.\n",
        "O método envelhecer aumenta a idade da pessoa em um determinado número de anos. Se a idade for menor que 21 anos, a altura também aumenta em 0,5 cm por ano.\n",
        "O método engordar aumenta o peso da pessoa em um determinado número de quilos.\n",
        "O método emagrecer diminui o peso da pessoa em um determinado número de quilos.\n",
        "O método crescer aumenta a altura da pessoa em um determinado número de centímetros.\n",
        "Exemplo de uso:"
      ],
      "metadata": {
        "id": "fgI3AA43abLj"
      }
    },
    {
      "cell_type": "code",
      "source": [
        "pessoa = Pessoa(\"João\", 18, 60, 170)\n",
        "print(pessoa.idade)  # Saída: 18\n",
        "print(pessoa.altura)  # Saída: 170\n",
        "\n",
        "pessoa.envelhecer(3)\n",
        "print(pessoa.idade)  # Saída: 21\n",
        "print(pessoa.altura)  # Saída: 172.5\n",
        "\n",
        "pessoa.engordar(5)\n",
        "print(pessoa.peso)  # Saída: 65\n",
        "\n",
        "pessoa.emagrecer(2)\n",
        "print(pessoa.peso)  # Saída: 63\n",
        "\n",
        "pessoa.crescer(2)\n",
        "print(pessoa.altura)  # Saída: 174.5"
      ],
      "metadata": {
        "colab": {
          "base_uri": "https://localhost:8080/"
        },
        "id": "KIg3Pl_sabsn",
        "outputId": "b2779083-fb1b-436a-9ad1-941de063b808"
      },
      "execution_count": 10,
      "outputs": [
        {
          "output_type": "stream",
          "name": "stdout",
          "text": [
            "18\n",
            "170\n",
            "21\n",
            "170\n",
            "65\n",
            "63\n",
            "172\n"
          ]
        }
      ]
    },
    {
      "cell_type": "markdown",
      "source": [
        "Note que os atributos da classe são acessados usando o operador . (ponto), como em pessoa.nome ou pessoa.idade."
      ],
      "metadata": {
        "id": "Fy60Y4-EaoeS"
      }
    },
    {
      "cell_type": "markdown",
      "source": [
        "Classe Conta Corrente: Crie uma classe para implementar uma conta corrente. A classe deve possuir os seguintes atributos: número da conta, nome do correntista e saldo. Os métodos são os seguintes: alterarNome, depósito e saque; No construtor, saldo é opcional, com valor default zero e os demais atributos são obrigatórios."
      ],
      "metadata": {
        "id": "atGPgshHatVC"
      }
    },
    {
      "cell_type": "code",
      "source": [
        "class ContaCorrente:\n",
        "    def __init__(self, numero_conta, nome_correntista, saldo=0):\n",
        "        self.numero_conta = numero_conta\n",
        "        self.nome_correntista = nome_correntista\n",
        "        self.saldo = saldo\n",
        "\n",
        "    def alterar_nome(self, novo_nome):\n",
        "        self.nome_correntista = novo_nome\n",
        "\n",
        "    def deposito(self, valor):\n",
        "        self.saldo += valor\n",
        "\n",
        "    def saque(self, valor):\n",
        "        if valor > self.saldo:\n",
        "            print(\"Saldo insuficiente!\")\n",
        "        else:\n",
        "            self.saldo -= valor"
      ],
      "metadata": {
        "id": "ld2Kn0wObM1u"
      },
      "execution_count": 11,
      "outputs": []
    },
    {
      "cell_type": "markdown",
      "source": [
        "Explicação:\n",
        "\n",
        "A classe ContaCorrente tem três atributos: numero_conta, nome_correntista e saldo. O atributo saldo é opcional e tem um valor default de zero.\n",
        "O método alterar_nome permite alterar o nome do correntista.\n",
        "O método deposito adiciona um valor ao saldo da conta.\n",
        "O método saque subtrai um valor do saldo da conta, desde que o saldo seja suficiente.\n",
        "Exemplo de uso:"
      ],
      "metadata": {
        "id": "fYFxkuSvb6fQ"
      }
    },
    {
      "cell_type": "code",
      "source": [
        "conta = ContaCorrente(\"123456\", \"João\", 1000)\n",
        "print(\"Saldo inicial:\", conta.saldo)  # Saída: Saldo inicial: 1000\n",
        "\n",
        "conta.alterar_nome(\"João Silva\")\n",
        "print(\"Nome do correntista:\", conta.nome_correntista)  # Saída: Nome do correntista: João Silva\n",
        "\n",
        "conta.deposito(500)\n",
        "print(\"Saldo após depósito:\", conta.saldo)  # Saída: Saldo após depósito: 1500\n",
        "\n",
        "conta.saque(200)\n",
        "print(\"Saldo após saque:\", conta.saldo)  # Saída: Saldo após saque: 1300\n",
        "\n",
        "conta.saque(1500)  # Saída: Saldo insuficiente!\n",
        "print(\"Saldo após tentativa de saque:\", conta.saldo)  # Saída: Saldo após tentativa de saque: 1300"
      ],
      "metadata": {
        "colab": {
          "base_uri": "https://localhost:8080/"
        },
        "id": "VacYk0bob7sw",
        "outputId": "85c3cc21-fb5f-451d-9755-01fee61239ea"
      },
      "execution_count": 13,
      "outputs": [
        {
          "output_type": "stream",
          "name": "stdout",
          "text": [
            "Saldo inicial: 1000\n",
            "Nome do correntista: João Silva\n",
            "Saldo após depósito: 1500\n",
            "Saldo após saque: 1300\n",
            "Saldo insuficiente!\n",
            "Saldo após tentativa de saque: 1300\n"
          ]
        }
      ]
    },
    {
      "cell_type": "markdown",
      "source": [
        "Classe TV: Faça um programa que simule um televisor criando-o como um objeto. O usuário deve ser capaz de informar o número do canal e aumentar ou diminuir o volume. Certifique-se de que o número do canal e o nível do volume permanecem dentro de faixas válidas."
      ],
      "metadata": {
        "id": "pyvLwASzchbH"
      }
    },
    {
      "cell_type": "code",
      "source": [
        "class TV:\n",
        "    def __init__(self):\n",
        "        self.canal = 1\n",
        "        self.volume = 10\n",
        "\n",
        "    def trocar_canal(self, novo_canal):\n",
        "        if 1 <= novo_canal <= 100:\n",
        "            self.canal = novo_canal\n",
        "        else:\n",
        "            print(\"Canal inválido! Deve estar entre 1 e 100.\")\n",
        "\n",
        "    def aumentar_volume(self):\n",
        "        if self.volume < 100:\n",
        "            self.volume += 1\n",
        "        else:\n",
        "            print(\"Volume máximo alcançado!\")\n",
        "\n",
        "    def diminuir_volume(self):\n",
        "        if self.volume > 0:\n",
        "            self.volume -= 1\n",
        "        else:\n",
        "            print(\"Volume mínimo alcançado!\")\n",
        "\n",
        "    def __str__(self):\n",
        "        return f\"Canal: {self.canal}, Volume: {self.volume}\""
      ],
      "metadata": {
        "id": "03WVDLX-ci2r"
      },
      "execution_count": 15,
      "outputs": []
    },
    {
      "cell_type": "markdown",
      "source": [
        "Explicação:\n",
        "\n",
        "A classe TV tem dois atributos: canal e volume, que são inicializados no construtor __init__.\n",
        "O método trocar_canal permite trocar o canal para um novo valor, desde que esteja entre 1 e 100.\n",
        "O método aumentar_volume aumenta o volume em 1, desde que não tenha alcançado o volume máximo (100).\n",
        "O método diminuir_volume diminui o volume em 1, desde que não tenha alcançado o volume mínimo (0).\n",
        "O método __str__ retorna uma string que descreve o estado atual da TV.\n",
        "Agora, aqui está o programa que utiliza esta classe:"
      ],
      "metadata": {
        "id": "LVmvW9Y3cjyW"
      }
    },
    {
      "cell_type": "code",
      "source": [
        "tv = TV()\n",
        "\n",
        "while True:\n",
        "    print(tv)\n",
        "    comando = input(\"Digite um comando (trocar_canal, aumentar_volume, diminuir_volume ou sair): \")\n",
        "    if comando == \"trocar_canal\":\n",
        "        novo_canal = int(input(\"Digite o novo canal: \"))\n",
        "        tv.trocar_canal(novo_canal)\n",
        "    elif comando == \"aumentar_volume\":\n",
        "        tv.aumentar_volume()\n",
        "    elif comando == \"diminuir_volume\":\n",
        "        tv.diminuir_volume()\n",
        "    elif comando == \"sair\":\n",
        "        break\n",
        "    else:\n",
        "        print(\"Comando inválido!\")"
      ],
      "metadata": {
        "colab": {
          "base_uri": "https://localhost:8080/"
        },
        "id": "THzFIfB9cvK_",
        "outputId": "715c80e9-3c01-43a9-888c-6d29e57f9641"
      },
      "execution_count": 16,
      "outputs": [
        {
          "name": "stdout",
          "output_type": "stream",
          "text": [
            "Canal: 1, Volume: 10\n",
            "Digite um comando (trocar_canal, aumentar_volume, diminuir_volume ou sair): trocar_canal\n",
            "Digite o novo canal: 3\n",
            "Canal: 3, Volume: 10\n",
            "Digite um comando (trocar_canal, aumentar_volume, diminuir_volume ou sair): aumentar_vvolume\n",
            "Comando inválido!\n",
            "Canal: 3, Volume: 10\n",
            "Digite um comando (trocar_canal, aumentar_volume, diminuir_volume ou sair): aumentar_volume\n",
            "Canal: 3, Volume: 11\n",
            "Digite um comando (trocar_canal, aumentar_volume, diminuir_volume ou sair): sair\n"
          ]
        }
      ]
    },
    {
      "cell_type": "markdown",
      "source": [
        "#Este programa cria um objeto TV e entra em um loop que permite ao usuário digitar comandos para trocar o canal, aumentar ou diminuir o volume, ou sair do programa."
      ],
      "metadata": {
        "id": "VuaW5bTrdPYw"
      }
    },
    {
      "cell_type": "markdown",
      "source": [
        "Classe Bichinho Virtual:Crie uma classe que modele um Tamagushi (Bichinho Eletrônico):\n",
        "\n",
        "Atributos: Nome, Fome, Saúde e Idade b. Métodos: Alterar Nome, Fome, Saúde e Idade; Retornar Nome, Fome, Saúde e Idade Obs: Existe mais uma informação que devemos levar em consideração, o Humor do nosso tamagushi, este humor é uma combinação entre os atributos Fome e Saúde, ou seja, um campo calculado, então não devemos criar um atributo para armazenar esta informação por que ela pode ser calculada a qualquer momento."
      ],
      "metadata": {
        "id": "OgJyDTy4dTHc"
      }
    },
    {
      "cell_type": "code",
      "source": [
        "class Tamagushi:\n",
        "    def __init__(self, nome, fome=10, saude=10, idade=0):\n",
        "        self.nome = nome\n",
        "        self.fome = fome\n",
        "        self.saude = saude\n",
        "        self.idade = idade\n",
        "\n",
        "    def alterar_nome(self, novo_nome):\n",
        "        self.nome = novo_nome\n",
        "\n",
        "    def alterar_fome(self, nova_fome):\n",
        "        if 0 <= nova_fome <= 10:\n",
        "            self.fome = nova_fome\n",
        "        else:\n",
        "            print(\"Fome inválida! Deve estar entre 0 e 10.\")\n",
        "\n",
        "    def alterar_saude(self, nova_saude):\n",
        "        if 0 <= nova_saude <= 10:\n",
        "            self.saude = nova_saude\n",
        "        else:\n",
        "            print(\"Saúde inválida! Deve estar entre 0 e 10.\")\n",
        "\n",
        "    def alterar_idade(self, nova_idade):\n",
        "        if nova_idade >= 0:\n",
        "            self.idade = nova_idade\n",
        "        else:\n",
        "            print(\"Idade inválida! Deve ser maior ou igual a 0.\")\n",
        "\n",
        "    def retornar_nome(self):\n",
        "        return self.nome\n",
        "\n",
        "    def retornar_fome(self):\n",
        "        return self.fome\n",
        "\n",
        "    def retornar_saude(self):\n",
        "        return self.saude\n",
        "\n",
        "    def retornar_idade(self):\n",
        "        return self.idade\n",
        "\n",
        "    def calcular_humor(self):\n",
        "        if self.fome <= 3 and self.saude <= 3:\n",
        "            return \"Muito feliz!\"\n",
        "        elif self.fome <= 6 and self.saude <= 6:\n",
        "            return \"Feliz!\"\n",
        "        elif self.fome <= 8 and self.saude <= 8:\n",
        "            return \"Neutro!\"\n",
        "        else:\n",
        "            return \"Triste!\"\n",
        "\n",
        "    def __str__(self):\n",
        "        return f\"Nome: {self.nome}, Fome: {self.fome}, Saúde: {self.saude}, Idade: {self.idade}, Humor: {self.calcular_humor()}\""
      ],
      "metadata": {
        "id": "OFf_3H7bdfsA"
      },
      "execution_count": 18,
      "outputs": []
    },
    {
      "cell_type": "markdown",
      "source": [
        "Explicação:\n",
        "\n",
        "A classe Tamagushi tem quatro atributos: nome, fome, saude e idade, que são inicializados no construtor __init__.\n",
        "Os métodos alterar_nome, alterar_fome, alterar_saude e alterar_idade permitem alterar os respectivos atributos.\n",
        "Os métodos retornar_nome, retornar_fome, retornar_saude e retornar_idade retornam os respectivos atributos.\n",
        "O método calcular_humor calcula o humor do Tamagushi com base nos atributos fome e saude.\n",
        "O método __str__ retorna uma string que descreve o estado atual do Tamagushi.\n",
        "Agora, aqui está o programa que utiliza esta classe:"
      ],
      "metadata": {
        "id": "7jjl0361dgNf"
      }
    },
    {
      "cell_type": "code",
      "source": [
        "tamagushi = Tamagushi(\"Bichinho\")\n",
        "\n",
        "while True:\n",
        "    print(tamagushi)\n",
        "    comando = input(\"Digite um comando (alterar_nome, alterar_fome, alterar_saude, alterar_idade, sair): \")\n",
        "    if comando == \"alterar_nome\":\n",
        "        novo_nome = input(\"Digite o novo nome: \")\n",
        "        tamagushi.alterar_nome(novo_nome)\n",
        "    elif comando == \"alterar_fome\":\n",
        "        nova_fome = int(input(\"Digite a nova fome: \"))\n",
        "        tamagushi.alterar_fome(nova_fome)\n",
        "    elif comando == \"alterar_saude\":\n",
        "        nova_saude = int(input(\"Digite a nova saúde: \"))\n",
        "        tamagushi.alterar_saude(nova_saude)\n",
        "    elif comando == \"alterar_idade\":\n",
        "        nova_idade = int(input(\"Digite a nova idade: \"))\n",
        "        tamagushi.alterar_idade(nova_idade)\n",
        "    elif comando == \"sair\":\n",
        "        break\n",
        "    else:\n",
        "        print(\"Comando inválido!\")"
      ],
      "metadata": {
        "colab": {
          "base_uri": "https://localhost:8080/"
        },
        "id": "t0fkS8pEdqyL",
        "outputId": "dc4bf81e-da78-4e66-a31a-3632ffc62a41"
      },
      "execution_count": 19,
      "outputs": [
        {
          "name": "stdout",
          "output_type": "stream",
          "text": [
            "Nome: Bichinho, Fome: 10, Saúde: 10, Idade: 0, Humor: Triste!\n",
            "Digite um comando (alterar_nome, alterar_fome, alterar_saude, alterar_idade, sair): altrar_fome\n",
            "Comando inválido!\n",
            "Nome: Bichinho, Fome: 10, Saúde: 10, Idade: 0, Humor: Triste!\n",
            "Digite um comando (alterar_nome, alterar_fome, alterar_saude, alterar_idade, sair): alterar_fome\n",
            "Digite a nova fome: 12\n",
            "Fome inválida! Deve estar entre 0 e 10.\n",
            "Nome: Bichinho, Fome: 10, Saúde: 10, Idade: 0, Humor: Triste!\n",
            "Digite um comando (alterar_nome, alterar_fome, alterar_saude, alterar_idade, sair): alterar_saude\n",
            "Digite a nova saúde: 11\n",
            "Saúde inválida! Deve estar entre 0 e 10.\n",
            "Nome: Bichinho, Fome: 10, Saúde: 10, Idade: 0, Humor: Triste!\n",
            "Digite um comando (alterar_nome, alterar_fome, alterar_saude, alterar_idade, sair): sair\n"
          ]
        }
      ]
    },
    {
      "cell_type": "markdown",
      "source": [
        "Classe Macaco: Desenvolva uma classe Macaco,que possua os atributos nome e bucho (estomago) e pelo menos os métodos comer(), verBucho() e digerir(). Faça um programa ou teste interativamente, criando pelo menos dois macacos, alimentando-os com pelo menos 3 alimentos diferentes e verificando o conteúdo do estomago a cada refeição. Experimente fazer com que um macaco coma o outro. É possível criar um macaco canibal?"
      ],
      "metadata": {
        "id": "tFr0FMzlePv9"
      }
    },
    {
      "cell_type": "code",
      "source": [
        "class Macaco:\n",
        "    def __init__(self, nome):\n",
        "        self.nome = nome\n",
        "        self.bucho = []\n",
        "\n",
        "    def comer(self, alimento):\n",
        "        if isinstance(alimento, Macaco):\n",
        "            print(f\"{self.nome} não pode comer outro macaco!\")\n",
        "        else:\n",
        "            self.bucho.append(alimento)\n",
        "            print(f\"{self.nome} comeu {alimento}.\")\n",
        "\n",
        "    def verBucho(self):\n",
        "        print(f\"O bucho de {self.nome} contém: {self.bucho}\")\n",
        "\n",
        "    def digerir(self):\n",
        "        if self.bucho:\n",
        "            self.bucho.pop(0)\n",
        "            print(f\"{self.nome} digeriu um alimento.\")\n",
        "        else:\n",
        "            print(f\"{self.nome} não tem nada para digerir.\")\n",
        "\n",
        "# Criando dois macacos\n",
        "macaco1 = Macaco(\"Bongo\")\n",
        "macaco2 = Macaco(\"Miko\")\n",
        "\n",
        "# Alimentando os macacos\n",
        "macaco1.comer(\"banana\")\n",
        "macaco1.comer(\"maçã\")\n",
        "macaco1.comer(\"laranja\")\n",
        "\n",
        "macaco2.comer(\"uva\")\n",
        "macaco2.comer(\"pêssego\")\n",
        "macaco2.comer(\"abacate\")\n",
        "\n",
        "# Verificando o conteúdo do estomago\n",
        "macaco1.verBucho()\n",
        "macaco2.verBucho()\n",
        "\n",
        "# Tentando fazer um macaco comer o outro\n",
        "macaco1.comer(macaco2)\n",
        "\n",
        "# Digerindo alimentos\n",
        "macaco1.digerir()\n",
        "macaco2.digerir()\n",
        "\n",
        "# Verificando o conteúdo do estomago novamente\n",
        "macaco1.verBucho()\n",
        "macaco2.verBucho()"
      ],
      "metadata": {
        "id": "on7MV-JCeXtz"
      },
      "execution_count": null,
      "outputs": []
    },
    {
      "cell_type": "markdown",
      "source": [
        "Explicação:\n",
        "\n",
        "A classe Macaco tem dois atributos: nome e bucho, que é uma lista que representa o estomago do macaco.\n",
        "O método comer permite que o macaco coma um alimento. Se o alimento for outro macaco, ele não é comido.\n",
        "O método verBucho imprime o conteúdo do estomago do macaco.\n",
        "O método digerir remove o primeiro alimento do estomago do macaco.\n",
        "No programa, criamos dois macacos e os alimentamos com diferentes alimentos. Em seguida, verificamos o conteúdo do estomago de cada macaco e tentamos fazer um macaco comer o outro. Finalmente, digerimos alguns alimentos e verificamos o conteúdo do estomago novamente."
      ],
      "metadata": {
        "id": "HRbli5x-drgr"
      }
    },
    {
      "cell_type": "code",
      "source": [
        "class Macaco:\n",
        "    def __init__(self, nome):\n",
        "        self.nome = nome\n",
        "        self.bucho = []\n",
        "\n",
        "    def comer(self, alimento):\n",
        "        if isinstance(alimento, Macaco):\n",
        "            print(f\"{self.nome} não pode comer outro macaco!\")\n",
        "        else:\n",
        "            self.bucho.append(alimento)\n",
        "            print(f\"{self.nome} comeu {alimento}.\")\n",
        "\n",
        "    def verBucho(self):\n",
        "        print(f\"O bucho de {self.nome} contém: {self.bucho}\")\n",
        "\n",
        "    def digerir(self):\n",
        "        if self.bucho:\n",
        "            self.bucho.pop(0)\n",
        "            print(f\"{self.nome} digeriu um alimento.\")\n",
        "        else:\n",
        "            print(f\"{self.nome} não tem nada para digerir.\")\n",
        "\n",
        "def main():\n",
        "    # Criando dois macacos\n",
        "    macaco1 = Macaco(\"Bongo\")\n",
        "    macaco2 = Macaco(\"Miko\")\n",
        "\n",
        "    while True:\n",
        "        print(\"\\nOpções:\")\n",
        "        print(\"1. Alimentar macaco 1\")\n",
        "        print(\"2. Alimentar macaco 2\")\n",
        "        print(\"3. Ver bucho de macaco 1\")\n",
        "        print(\"4. Ver bucho de macaco 2\")\n",
        "        print(\"5. Digerir alimento de macaco 1\")\n",
        "        print(\"6. Digerir alimento de macaco 2\")\n",
        "        print(\"7. Tentar fazer macaco 1 comer macaco 2\")\n",
        "        print(\"8. Sair\")\n",
        "\n",
        "        opcao = input(\"Digite a opção: \")\n",
        "\n",
        "        if opcao == \"1\":\n",
        "            alimento = input(\"Digite o alimento para macaco 1: \")\n",
        "            macaco1.comer(alimento)\n",
        "        elif opcao == \"2\":\n",
        "            alimento = input(\"Digite o alimento para macaco 2: \")\n",
        "            macaco2.comer(alimento)\n",
        "        elif opcao == \"3\":\n",
        "            macaco1.verBucho()\n",
        "        elif opcao == \"4\":\n",
        "            macaco2.verBucho()\n",
        "        elif opcao == \"5\":\n",
        "            macaco1.digerir()\n",
        "        elif opcao == \"6\":\n",
        "            macaco2.digerir()\n",
        "        elif opcao == \"7\":\n",
        "            macaco1.comer(macaco2)\n",
        "        elif opcao == \"8\":\n",
        "            break\n",
        "        else:\n",
        "            print(\"Opção inválida!\")\n",
        "\n",
        "if __name__ == \"__main__\":\n",
        "    main()"
      ],
      "metadata": {
        "colab": {
          "base_uri": "https://localhost:8080/"
        },
        "id": "uoE4PMwPekJZ",
        "outputId": "2af23a2e-cbaf-4dce-8d36-4a501e68f694"
      },
      "execution_count": 20,
      "outputs": [
        {
          "name": "stdout",
          "output_type": "stream",
          "text": [
            "\n",
            "Opções:\n",
            "1. Alimentar macaco 1\n",
            "2. Alimentar macaco 2\n",
            "3. Ver bucho de macaco 1\n",
            "4. Ver bucho de macaco 2\n",
            "5. Digerir alimento de macaco 1\n",
            "6. Digerir alimento de macaco 2\n",
            "7. Tentar fazer macaco 1 comer macaco 2\n",
            "8. Sair\n",
            "Digite a opção: 1\n",
            "Digite o alimento para macaco 1: 22\n",
            "Bongo comeu 22.\n",
            "\n",
            "Opções:\n",
            "1. Alimentar macaco 1\n",
            "2. Alimentar macaco 2\n",
            "3. Ver bucho de macaco 1\n",
            "4. Ver bucho de macaco 2\n",
            "5. Digerir alimento de macaco 1\n",
            "6. Digerir alimento de macaco 2\n",
            "7. Tentar fazer macaco 1 comer macaco 2\n",
            "8. Sair\n",
            "Digite a opção: 2\n",
            "Digite o alimento para macaco 2: 33\n",
            "Miko comeu 33.\n",
            "\n",
            "Opções:\n",
            "1. Alimentar macaco 1\n",
            "2. Alimentar macaco 2\n",
            "3. Ver bucho de macaco 1\n",
            "4. Ver bucho de macaco 2\n",
            "5. Digerir alimento de macaco 1\n",
            "6. Digerir alimento de macaco 2\n",
            "7. Tentar fazer macaco 1 comer macaco 2\n",
            "8. Sair\n",
            "Digite a opção: 3\n",
            "O bucho de Bongo contém: ['22']\n",
            "\n",
            "Opções:\n",
            "1. Alimentar macaco 1\n",
            "2. Alimentar macaco 2\n",
            "3. Ver bucho de macaco 1\n",
            "4. Ver bucho de macaco 2\n",
            "5. Digerir alimento de macaco 1\n",
            "6. Digerir alimento de macaco 2\n",
            "7. Tentar fazer macaco 1 comer macaco 2\n",
            "8. Sair\n",
            "Digite a opção: 4\n",
            "O bucho de Miko contém: ['33']\n",
            "\n",
            "Opções:\n",
            "1. Alimentar macaco 1\n",
            "2. Alimentar macaco 2\n",
            "3. Ver bucho de macaco 1\n",
            "4. Ver bucho de macaco 2\n",
            "5. Digerir alimento de macaco 1\n",
            "6. Digerir alimento de macaco 2\n",
            "7. Tentar fazer macaco 1 comer macaco 2\n",
            "8. Sair\n",
            "Digite a opção: 5\n",
            "Bongo digeriu um alimento.\n",
            "\n",
            "Opções:\n",
            "1. Alimentar macaco 1\n",
            "2. Alimentar macaco 2\n",
            "3. Ver bucho de macaco 1\n",
            "4. Ver bucho de macaco 2\n",
            "5. Digerir alimento de macaco 1\n",
            "6. Digerir alimento de macaco 2\n",
            "7. Tentar fazer macaco 1 comer macaco 2\n",
            "8. Sair\n",
            "Digite a opção: 7\n",
            "Bongo não pode comer outro macaco!\n",
            "\n",
            "Opções:\n",
            "1. Alimentar macaco 1\n",
            "2. Alimentar macaco 2\n",
            "3. Ver bucho de macaco 1\n",
            "4. Ver bucho de macaco 2\n",
            "5. Digerir alimento de macaco 1\n",
            "6. Digerir alimento de macaco 2\n",
            "7. Tentar fazer macaco 1 comer macaco 2\n",
            "8. Sair\n",
            "Digite a opção: 1\n",
            "Digite o alimento para macaco 1: 44\n",
            "Bongo comeu 44.\n",
            "\n",
            "Opções:\n",
            "1. Alimentar macaco 1\n",
            "2. Alimentar macaco 2\n",
            "3. Ver bucho de macaco 1\n",
            "4. Ver bucho de macaco 2\n",
            "5. Digerir alimento de macaco 1\n",
            "6. Digerir alimento de macaco 2\n",
            "7. Tentar fazer macaco 1 comer macaco 2\n",
            "8. Sair\n",
            "Digite a opção: 7\n",
            "Bongo não pode comer outro macaco!\n",
            "\n",
            "Opções:\n",
            "1. Alimentar macaco 1\n",
            "2. Alimentar macaco 2\n",
            "3. Ver bucho de macaco 1\n",
            "4. Ver bucho de macaco 2\n",
            "5. Digerir alimento de macaco 1\n",
            "6. Digerir alimento de macaco 2\n",
            "7. Tentar fazer macaco 1 comer macaco 2\n",
            "8. Sair\n",
            "Digite a opção: 8\n"
          ]
        }
      ]
    }
  ]
}