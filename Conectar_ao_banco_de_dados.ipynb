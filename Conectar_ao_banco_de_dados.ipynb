{
  "nbformat": 4,
  "nbformat_minor": 0,
  "metadata": {
    "colab": {
      "provenance": [],
      "authorship_tag": "ABX9TyOjxzoUps3dwVAP1dJjsHKU",
      "include_colab_link": true
    },
    "kernelspec": {
      "name": "python3",
      "display_name": "Python 3"
    },
    "language_info": {
      "name": "python"
    }
  },
  "cells": [
    {
      "cell_type": "markdown",
      "metadata": {
        "id": "view-in-github",
        "colab_type": "text"
      },
      "source": [
        "<a href=\"https://colab.research.google.com/github/DDKALEB/biblioteca_pandas_dnc/blob/main/Conectar_ao_banco_de_dados.ipynb\" target=\"_parent\"><img src=\"https://colab.research.google.com/assets/colab-badge.svg\" alt=\"Open In Colab\"/></a>"
      ]
    },
    {
      "cell_type": "code",
      "execution_count": 4,
      "metadata": {
        "id": "56q8O4UpOKnl"
      },
      "outputs": [],
      "source": [
        "import sqlite3\n",
        "\n",
        "# Conectar ao banco de dados\n",
        "conn = sqlite3.connect(\"meu_banco.db\")\n",
        "cursor = conn.cursor()\n",
        "\n",
        "# Criar a tabela clientes se não existir\n",
        "cursor.execute(\"\"\"\n",
        "    CREATE TABLE IF NOT EXISTS clientes (\n",
        "        nome TEXT,\n",
        "        idade INTEGER,\n",
        "        cpf TEXT,\n",
        "        email TEXT,\n",
        "        fone TEXT,\n",
        "        cidade TEXT,\n",
        "        uf TEXT,\n",
        "        criado_em DATE\n",
        "    );\n",
        "\"\"\")\n",
        "\n",
        "# Lista de clientes a serem inseridos\n",
        "clientes = [\n",
        "    (\"João\", 25, \"123456789\", \"joao@example.com\", \"1234-5678\", \"São Paulo\", \"SP\", \"2022-01-01\"),\n",
        "    (\"Maria\", 30, \"987654321\", \"maria@example.com\", \"9876-5432\", \"Rio de Janeiro\", \"RJ\", \"2022-01-15\"),\n",
        "    (\"José\", 35, \"111222333\", \"jose@example.com\", \"1111-2222\", \"Brasília\", \"DF\", \"2022-02-01\"),\n",
        "    (\"Ana\", 20, \"444555666\", \"ana@example.com\", \"4444-5555\", \"Curitiba\", \"PR\", \"2022-03-01\"),\n",
        "]\n",
        "\n",
        "# Inserir clientes em massa\n",
        "cursor.executemany(\"\"\"\n",
        "    INSERT INTO clientes (nome, idade, cpf, email, fone, cidade, uf, criado_em)\n",
        "    VALUES (?,?,?,?,?,?,?,?)\n",
        "\"\"\", clientes)\n",
        "\n",
        "# Commitar as alterações\n",
        "conn.commit()\n",
        "\n",
        "# Fechar a conexão\n",
        "conn.close()"
      ]
    },
    {
      "cell_type": "code",
      "source": [
        "!python exemplo.py"
      ],
      "metadata": {
        "colab": {
          "base_uri": "https://localhost:8080/"
        },
        "id": "I6s4uKZ5Q6JD",
        "outputId": "390d5288-2fe4-48b4-ec6f-29cba35e95ac"
      },
      "execution_count": 1,
      "outputs": [
        {
          "output_type": "stream",
          "name": "stdout",
          "text": [
            "python3: can't open file '/content/exemplo.py': [Errno 2] No such file or directory\n"
          ]
        }
      ]
    },
    {
      "cell_type": "code",
      "source": [
        "!pip install requests  # Install the necessary library\n",
        "import requests        # Import the requests module to make it available in your code\n",
        "\n",
        "r = requests.get('http://httpbin.org/get')\n",
        "r.status_code"
      ],
      "metadata": {
        "colab": {
          "base_uri": "https://localhost:8080/"
        },
        "id": "gwLJBizCR1sX",
        "outputId": "ba81e235-ed6b-4848-fd1a-247afa965352"
      },
      "execution_count": 8,
      "outputs": [
        {
          "output_type": "stream",
          "name": "stdout",
          "text": [
            "Requirement already satisfied: requests in /usr/local/lib/python3.10/dist-packages (2.32.3)\n",
            "Requirement already satisfied: charset-normalizer<4,>=2 in /usr/local/lib/python3.10/dist-packages (from requests) (3.3.2)\n",
            "Requirement already satisfied: idna<4,>=2.5 in /usr/local/lib/python3.10/dist-packages (from requests) (3.10)\n",
            "Requirement already satisfied: urllib3<3,>=1.21.1 in /usr/local/lib/python3.10/dist-packages (from requests) (2.2.3)\n",
            "Requirement already satisfied: certifi>=2017.4.17 in /usr/local/lib/python3.10/dist-packages (from requests) (2024.8.30)\n"
          ]
        },
        {
          "output_type": "execute_result",
          "data": {
            "text/plain": [
              "200"
            ]
          },
          "metadata": {},
          "execution_count": 8
        }
      ]
    }
  ]
}