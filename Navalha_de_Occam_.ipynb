{
  "nbformat": 4,
  "nbformat_minor": 0,
  "metadata": {
    "colab": {
      "provenance": [],
      "authorship_tag": "ABX9TyMGYzrHJK261Y+/W3rQMlTk",
      "include_colab_link": true
    },
    "kernelspec": {
      "name": "python3",
      "display_name": "Python 3"
    },
    "language_info": {
      "name": "python"
    }
  },
  "cells": [
    {
      "cell_type": "markdown",
      "metadata": {
        "id": "view-in-github",
        "colab_type": "text"
      },
      "source": [
        "<a href=\"https://colab.research.google.com/github/DDKALEB/biblioteca_pandas_dnc/blob/main/Navalha_de_Occam_.ipynb\" target=\"_parent\"><img src=\"https://colab.research.google.com/assets/colab-badge.svg\" alt=\"Open In Colab\"/></a>"
      ]
    },
    {
      "cell_type": "markdown",
      "source": [
        "Vamos demonstrar a Navalha de Occam com um programa em Python que decide entre duas explicações para um barulho noturno.\n",
        "\n",
        "Vamos considerar duas hipóteses:\n",
        "\n",
        "O vento fez o barulho.\n",
        "\n",
        "Um fantasma fez o barulho.\n",
        "\n",
        "O programa irá verificar a presença de vento e, com base na Navalha de Occam, decidir qual explicação é mais simples e, portanto, mais provável."
      ],
      "metadata": {
        "id": "GH4tNOdqX1ae"
      }
    },
    {
      "cell_type": "code",
      "execution_count": 2,
      "metadata": {
        "colab": {
          "base_uri": "https://localhost:8080/"
        },
        "id": "dap7K6dTXz-q",
        "outputId": "08564365-244d-4a8c-e7f3-6be3701e85c9"
      },
      "outputs": [
        {
          "output_type": "stream",
          "name": "stdout",
          "text": [
            "O barulho foi causado pelo vento.\n",
            "Explicação alternativa: Fantasma?\n"
          ]
        }
      ],
      "source": [
        "def barulho_noturno(vento):\n",
        "    if vento:\n",
        "        return \"O barulho foi causado pelo vento.\"\n",
        "    else:\n",
        "        return \"Explicação alternativa: Fantasma?\"\n",
        "\n",
        "# Testando a função\n",
        "# Vento presente\n",
        "print(barulho_noturno(True))\n",
        "\n",
        "# Vento ausente\n",
        "print(barulho_noturno(False))\n"
      ]
    },
    {
      "cell_type": "markdown",
      "source": [
        "Neste exemplo, se há vento, o programa escolhe a explicação mais simples: \"O barulho foi causado pelo vento\". Se não há vento, o programa sugere uma explicação alternativa, mais complexa: \"Fantasma?\"\n",
        "\n",
        "Lembre-se, a ideia aqui é usar a explicação mais simples que ainda faz sentido. Se você tem uma ventilador ligado e ouve um barulho, é bem mais simples pensar que o vento causou o barulho do que acreditar em fantasmas. 😉"
      ],
      "metadata": {
        "id": "8QYdd5KnYDlH"
      }
    },
    {
      "cell_type": "markdown",
      "source": [
        "Vamos ampliar esse raciocínio, incorporando várias hipóteses e variáveis ambientais para decidir entre várias possíveis causas de um barulho noturno. Suponhamos que as hipóteses sejam: vento, gato, e fantasma. Vamos adicionar variáveis como presença de vento, gato presente em casa, e barulho contínuo ou não. Aqui está um programa mais complexo em Python:"
      ],
      "metadata": {
        "id": "NCwr5H79YYDt"
      }
    },
    {
      "cell_type": "code",
      "source": [
        "def barulho_noturno(vento, gato, barulho_continuo):\n",
        "    if vento and not gato:\n",
        "        return \"O barulho foi causado pelo vento.\"\n",
        "    elif gato and not vento and not barulho_continuo:\n",
        "        return \"O barulho foi causado pelo gato.\"\n",
        "    elif barulho_continuo and not vento and not gato:\n",
        "        return \"O barulho pode ser atribuído a uma causa mecânica (por exemplo, um aparelho).\"\n",
        "    else:\n",
        "        return \"Explicação alternativa: Fantasma?\"\n",
        "\n",
        "# Testando a função com diferentes cenários\n",
        "# Cenário 1: Vento presente, sem gato\n",
        "print(barulho_noturno(True, False, False))  # Output: \"O barulho foi causado pelo vento.\"\n",
        "\n",
        "# Cenário 2: Gato presente, sem vento\n",
        "print(barulho_noturno(False, True, False))  # Output: \"O barulho foi causado pelo gato.\"\n",
        "\n",
        "# Cenário 3: Barulho contínuo, sem vento, sem gato\n",
        "print(barulho_noturno(False, False, True))  # Output: \"O barulho pode ser atribuído a uma causa mecânica.\"\n",
        "\n",
        "# Cenário 4: Nenhuma causa óbvia\n",
        "print(barulho_noturno(False, False, False))  # Output: \"Explicação alternativa: Fantasma?\"\n"
      ],
      "metadata": {
        "colab": {
          "base_uri": "https://localhost:8080/"
        },
        "id": "ltodY3qRYEmG",
        "outputId": "5008b2dd-6765-4faa-dbf8-ce80ed5599bd"
      },
      "execution_count": 3,
      "outputs": [
        {
          "output_type": "stream",
          "name": "stdout",
          "text": [
            "O barulho foi causado pelo vento.\n",
            "O barulho foi causado pelo gato.\n",
            "O barulho pode ser atribuído a uma causa mecânica (por exemplo, um aparelho).\n",
            "Explicação alternativa: Fantasma?\n"
          ]
        }
      ]
    },
    {
      "cell_type": "markdown",
      "source": [
        "Vamos adicionar uma interação para que o usuário possa fornecer os dados diretamente ao programa. Aqui está o código atualizado:"
      ],
      "metadata": {
        "id": "UK9sqNjkY13v"
      }
    },
    {
      "cell_type": "code",
      "source": [
        "def barulho_noturno(vento, gato, barulho_continuo):\n",
        "    if vento and not gato:\n",
        "        return \"O barulho foi causado pelo vento.\"\n",
        "    elif gato and not vento and not barulho_continuo:\n",
        "        return \"O barulho foi causado pelo gato.\"\n",
        "    elif barulho_continuo and not vento and not gato:\n",
        "        return \"O barulho pode ser atribuído a uma causa mecânica (por exemplo, um aparelho).\"\n",
        "    else:\n",
        "        return \"Explicação alternativa: Fantasma?\"\n",
        "\n",
        "# Interação com o usuário\n",
        "def main():\n",
        "    # Coletar entradas do usuário\n",
        "    vento = input(\"Há vento presente? (sim/não): \").strip().lower() == 'sim'\n",
        "    gato = input(\"O gato está em casa? (sim/não): \").strip().lower() == 'sim'\n",
        "    barulho_continuo = input(\"O barulho é contínuo? (sim/não): \").strip().lower() == 'sim'\n",
        "\n",
        "    # Determinar a causa do barulho\n",
        "    resultado = barulho_noturno(vento, gato, barulho_continuo)\n",
        "\n",
        "    # Mostrar o resultado\n",
        "    print(resultado)\n",
        "\n",
        "if __name__ == \"__main__\":\n",
        "    main()\n"
      ],
      "metadata": {
        "colab": {
          "base_uri": "https://localhost:8080/"
        },
        "id": "0Xj3do9tY2Mf",
        "outputId": "27539935-8413-43af-e63f-4d8da0fb5ccc"
      },
      "execution_count": 4,
      "outputs": [
        {
          "output_type": "stream",
          "name": "stdout",
          "text": [
            "Há vento presente? (sim/não): nao\n",
            "O gato está em casa? (sim/não): sim\n",
            "O barulho é contínuo? (sim/não): nao\n",
            "O barulho foi causado pelo gato.\n"
          ]
        }
      ]
    },
    {
      "cell_type": "markdown",
      "source": [
        "Agora, ao rodar o programa, ele irá interagir com o usuário, perguntando sobre a presença de vento, se o gato está em casa, e se o barulho é contínuo. Com base nas respostas, ele vai determinar a causa mais provável do barulho. Legal, né? 😉"
      ],
      "metadata": {
        "id": "gI_uFSDYZKE2"
      }
    }
  ]
}