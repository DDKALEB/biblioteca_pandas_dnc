{
  "cells": [
    {
      "cell_type": "markdown",
      "metadata": {
        "id": "view-in-github",
        "colab_type": "text"
      },
      "source": [
        "<a href=\"https://colab.research.google.com/github/DDKALEB/biblioteca_pandas_dnc/blob/main/ExerciciossClasse_2.ipynb\" target=\"_parent\"><img src=\"https://colab.research.google.com/assets/colab-badge.svg\" alt=\"Open In Colab\"/></a>"
      ]
    },
    {
      "cell_type": "markdown",
      "metadata": {
        "id": "vrMtrQEXm_pr"
      },
      "source": [
        "Classe Ponto e Retangulo: Faça um programa completo utilizando funções e classes que:\n",
        "\n",
        "Possua uma classe chamada Ponto, com os atributos x e y.\n",
        "Possua uma classe chamada Retangulo, com os atributos largura e altura.\n",
        "Possua uma função para imprimir os valores da classe Ponto\n",
        "Possua uma função para encontrar o centro de um Retângulo.\n",
        "Você deve criar alguns objetos da classe Retangulo.\n",
        "Cada objeto deve ter um vértice de partida, por exemplo, o vértice inferior esquerdo do retângulo, que deve ser um objeto da classe Ponto.\n",
        "A função para encontrar o centro do retângulo deve retornar o valor para um objeto do tipo ponto que indique os valores de x e y para o centro do objeto.\n",
        "O valor do centro do objeto deve ser mostrado na tela\n",
        "Crie um menu para alterar os valores do retângulo e imprimir o centro deste retângulo."
      ]
    },
    {
      "cell_type": "code",
      "execution_count": null,
      "metadata": {
        "colab": {
          "background_save": true,
          "base_uri": "https://localhost:8080/"
        },
        "id": "LK_t6-Irm9Um",
        "outputId": "9cf27030-7309-4f3f-e251-379ffb2f1bbf"
      },
      "outputs": [
        {
          "name": "stdout",
          "output_type": "stream",
          "text": [
            "\n",
            "Opções:\n",
            "1. Imprimir centro do retângulo 1\n",
            "2. Imprimir centro do retângulo 2\n",
            "3. Imprimir centro do retângulo 3\n",
            "4. Alterar largura do retângulo 1\n",
            "5. Alterar altura do retângulo 1\n",
            "6. Alterar vértice de partida do retângulo 1\n",
            "7. Sair\n",
            "Ponto: (5.0, 5.0)\n",
            "\n",
            "Opções:\n",
            "1. Imprimir centro do retângulo 1\n",
            "2. Imprimir centro do retângulo 2\n",
            "3. Imprimir centro do retângulo 3\n",
            "4. Alterar largura do retângulo 1\n",
            "5. Alterar altura do retângulo 1\n",
            "6. Alterar vértice de partida do retângulo 1\n",
            "7. Sair\n",
            "Ponto: (20.0, 20.0)\n",
            "\n",
            "Opções:\n",
            "1. Imprimir centro do retângulo 1\n",
            "2. Imprimir centro do retângulo 2\n",
            "3. Imprimir centro do retângulo 3\n",
            "4. Alterar largura do retângulo 1\n",
            "5. Alterar altura do retângulo 1\n",
            "6. Alterar vértice de partida do retângulo 1\n",
            "7. Sair\n"
          ]
        }
      ],
      "source": [
        "class Ponto:\n",
        "    def __init__(self, x, y):\n",
        "        self.x = x\n",
        "        self.y = y\n",
        "\n",
        "    def imprimir(self):\n",
        "        print(f\"Ponto: ({self.x}, {self.y})\")\n",
        "\n",
        "class Retangulo:\n",
        "    def __init__(self, largura, altura, vertice_partida):\n",
        "        self.largura = largura\n",
        "        self.altura = altura\n",
        "        self.vertice_partida = vertice_partida\n",
        "\n",
        "    def encontrar_centro(self):\n",
        "        centro_x = self.vertice_partida.x + self.largura / 2\n",
        "        centro_y = self.vertice_partida.y + self.altura / 2\n",
        "        return Ponto(centro_x, centro_y)\n",
        "\n",
        "def main():\n",
        "    # Criando objetos da classe Ponto\n",
        "    ponto1 = Ponto(0, 0)\n",
        "    ponto2 = Ponto(10, 10)\n",
        "    ponto3 = Ponto(20, 20)\n",
        "\n",
        "    # Criando objetos da classe Retangulo\n",
        "    retangulo1 = Retangulo(10, 10, ponto1)\n",
        "    retangulo2 = Retangulo(20, 20, ponto2)\n",
        "    retangulo3 = Retangulo(30, 30, ponto3)\n",
        "\n",
        "    while True:\n",
        "        print(\"\\nOpções:\")\n",
        "        print(\"1. Imprimir centro do retângulo 1\")\n",
        "        print(\"2. Imprimir centro do retângulo 2\")\n",
        "        print(\"3. Imprimir centro do retângulo 3\")\n",
        "        print(\"4. Alterar largura do retângulo 1\")\n",
        "        print(\"5. Alterar altura do retângulo 1\")\n",
        "        print(\"6. Alterar vértice de partida do retângulo 1\")\n",
        "        print(\"7. Sair\")\n",
        "\n",
        "        opcao = input(\"Digite a opção: \")\n",
        "\n",
        "        if opcao == \"1\":\n",
        "            centro = retangulo1.encontrar_centro()\n",
        "            centro.imprimir()\n",
        "        elif opcao == \"2\":\n",
        "            centro = retangulo2.encontrar_centro()\n",
        "            centro.imprimir()\n",
        "        elif opcao == \"3\":\n",
        "            centro = retangulo3.encontrar_centro()\n",
        "            centro.imprimir()\n",
        "        elif opcao == \"4\":\n",
        "            largura = float(input(\"Digite a nova largura do retângulo 1: \"))\n",
        "            retangulo1.largura = largura\n",
        "        elif opcao == \"5\":\n",
        "            altura = float(input(\"Digite a nova altura do retângulo 1: \"))\n",
        "            retangulo1.altura = altura\n",
        "        elif opcao == \"6\":\n",
        "            x = float(input(\"Digite o novo x do vértice de partida do retângulo 1: \"))\n",
        "            y = float(input(\"Digite o novo y do vértice de partida do retângulo 1: \"))\n",
        "            retangulo1.vertice_partida = Ponto(x, y)\n",
        "        elif opcao == \"7\":\n",
        "            break\n",
        "        else:\n",
        "            print(\"Opção inválida!\")\n",
        "\n",
        "if __name__ == \"__main__\":\n",
        "    main()"
      ]
    },
    {
      "cell_type": "code",
      "execution_count": null,
      "metadata": {
        "id": "PP8Lt5uOneBZ"
      },
      "outputs": [],
      "source": [
        "#ste programa cria objetos da classe Ponto e Retangulo, e permite que o usuário imprima o centro de cada retângulo, altere a largura, altura e vértice de partida de um retângulo, e saia do programa."
      ]
    },
    {
      "cell_type": "markdown",
      "source": [
        "Classe Bomba de Combustível: Faça um programa completo utilizando classes e métodos que:\n",
        "\n",
        "Possua uma classe chamada bombaCombustível, com no mínimo esses atributos:\n",
        "tipoCombustivel.\n",
        "valorLitro\n",
        "quantidadeCombustivel\n",
        "Possua no mínimo esses métodos:\n",
        "abastecerPorValor( ) – método onde é informado o valor a ser abastecido e mostra a quantidade de litros que foi colocada no veículo\n",
        "abastecerPorLitro( ) – método onde é informado a quantidade em litros de combustível e mostra o valor a ser pago pelo cliente.\n",
        "alterarValor( ) – altera o valor do litro do combustível.\n",
        "alterarCombustivel( ) – altera o tipo do combustível.\n",
        "alterarQuantidadeCombustivel( ) – altera a quantidade de combustível restante na bomba.\n",
        "OBS: Sempre que acontecer um abastecimento é necessário atualizar a quantidade de combustível total na bomba."
      ],
      "metadata": {
        "id": "6xbxKl_voiOa"
      }
    },
    {
      "cell_type": "code",
      "source": [
        "class BombaCombustivel:\n",
        "    def __init__(self, tipo_combustivel, valor_litro, quantidade_combustivel):\n",
        "        self.tipo_combustivel = tipo_combustivel\n",
        "        self.valor_litro = valor_litro\n",
        "        self.quantidade_combustivel = quantidade_combustivel\n",
        "\n",
        "    def abastecer_por_valor(self, valor):\n",
        "        if valor > 0:\n",
        "            litros = valor / self.valor_litro\n",
        "            if litros <= self.quantidade_combustivel:\n",
        "                self.quantidade_combustivel -= litros\n",
        "                print(f\"Abastecido {litros:.2f} litros de {self.tipo_combustivel}.\")\n",
        "            else:\n",
        "                print(\"Não há combustível suficiente na bomba.\")\n",
        "        else:\n",
        "            print(\"Valor inválido.\")\n",
        "\n",
        "    def abastecer_por_litro(self, litros):\n",
        "        if litros > 0:\n",
        "            valor = litros * self.valor_litro\n",
        "            if litros <= self.quantidade_combustivel:\n",
        "                self.quantidade_combustivel -= litros\n",
        "                print(f\"Valor a pagar: R$ {valor:.2f}.\")\n",
        "            else:\n",
        "                print(\"Não há combustível suficiente na bomba.\")\n",
        "        else:\n",
        "            print(\"Quantidade inválida.\")\n",
        "\n",
        "    def alterar_valor(self, novo_valor):\n",
        "        self.valor_litro = novo_valor\n",
        "        print(f\"Valor do litro alterado para R$ {novo_valor:.2f}.\")\n",
        "\n",
        "    def alterar_combustivel(self, novo_tipo_combustivel):\n",
        "        self.tipo_combustivel = novo_tipo_combustivel\n",
        "        print(f\"Tipo de combustível alterado para {novo_tipo_combustivel}.\")\n",
        "\n",
        "    def alterar_quantidade_combustivel(self, nova_quantidade):\n",
        "        self.quantidade_combustivel = nova_quantidade\n",
        "        print(f\"Quantidade de combustível alterada para {nova_quantidade} litros.\")\n",
        "\n",
        "def main():\n",
        "    bomba = BombaCombustivel(\"Gasolina\", 4.50, 1000)\n",
        "\n",
        "    while True:\n",
        "        print(\"\\nOpções:\")\n",
        "        print(\"1. Abastecer por valor\")\n",
        "        print(\"2. Abastecer por litro\")\n",
        "        print(\"3. Alterar valor do litro\")\n",
        "        print(\"4. Alterar tipo de combustível\")\n",
        "        print(\"5. Alterar quantidade de combustível\")\n",
        "        print(\"6. Sair\")\n",
        "\n",
        "        opcao = input(\"Digite a opção: \")\n",
        "\n",
        "        if opcao == \"1\":\n",
        "            valor = float(input(\"Digite o valor a ser abastecido: \"))\n",
        "            bomba.abastecer_por_valor(valor)\n",
        "        elif opcao == \"2\":\n",
        "            litros = float(input(\"Digite a quantidade em litros de combustível: \"))\n",
        "            bomba.abastecer_por_litro(litros)\n",
        "        elif opcao == \"3\":\n",
        "            novo_valor = float(input(\"Digite o novo valor do litro: \"))\n",
        "            bomba.alterar_valor(novo_valor)\n",
        "        elif opcao == \"4\":\n",
        "            novo_tipo_combustivel = input(\"Digite o novo tipo de combustível: \")\n",
        "            bomba.alterar_combustivel(novo_tipo_combustivel)\n",
        "        elif opcao == \"5\":\n",
        "            nova_quantidade = float(input(\"Digite a nova quantidade de combustível: \"))\n",
        "            bomba.alterar_quantidade_combustivel(nova_quantidade)\n",
        "        elif opcao == \"6\":\n",
        "            break\n",
        "        else:\n",
        "            print(\"Opção inválida!\")\n",
        "\n",
        "if __name__ == \"__main__\":\n",
        "    main()"
      ],
      "metadata": {
        "colab": {
          "base_uri": "https://localhost:8080/"
        },
        "id": "aoLyqovJodQF",
        "outputId": "85d3cccc-9def-4cc3-aea4-f78c25cfbe17"
      },
      "execution_count": 1,
      "outputs": [
        {
          "name": "stdout",
          "output_type": "stream",
          "text": [
            "\n",
            "Opções:\n",
            "1. Abastecer por valor\n",
            "2. Abastecer por litro\n",
            "3. Alterar valor do litro\n",
            "4. Alterar tipo de combustível\n",
            "5. Alterar quantidade de combustível\n",
            "6. Sair\n",
            "Digite a opção: 1\n",
            "Digite o valor a ser abastecido: 123\n",
            "Abastecido 27.33 litros de Gasolina.\n",
            "\n",
            "Opções:\n",
            "1. Abastecer por valor\n",
            "2. Abastecer por litro\n",
            "3. Alterar valor do litro\n",
            "4. Alterar tipo de combustível\n",
            "5. Alterar quantidade de combustível\n",
            "6. Sair\n",
            "Digite a opção: 2\n",
            "Digite a quantidade em litros de combustível: 33\n",
            "Valor a pagar: R$ 148.50.\n",
            "\n",
            "Opções:\n",
            "1. Abastecer por valor\n",
            "2. Abastecer por litro\n",
            "3. Alterar valor do litro\n",
            "4. Alterar tipo de combustível\n",
            "5. Alterar quantidade de combustível\n",
            "6. Sair\n",
            "Digite a opção: 5\n",
            "Digite a nova quantidade de combustível: 5\n",
            "Quantidade de combustível alterada para 5.0 litros.\n",
            "\n",
            "Opções:\n",
            "1. Abastecer por valor\n",
            "2. Abastecer por litro\n",
            "3. Alterar valor do litro\n",
            "4. Alterar tipo de combustível\n",
            "5. Alterar quantidade de combustível\n",
            "6. Sair\n",
            "Digite a opção: 4\n",
            "Digite o novo tipo de combustível: \n",
            "Tipo de combustível alterado para .\n",
            "\n",
            "Opções:\n",
            "1. Abastecer por valor\n",
            "2. Abastecer por litro\n",
            "3. Alterar valor do litro\n",
            "4. Alterar tipo de combustível\n",
            "5. Alterar quantidade de combustível\n",
            "6. Sair\n",
            "Digite a opção: 6\n"
          ]
        }
      ]
    },
    {
      "cell_type": "markdown",
      "source": [
        "Este programa cria uma classe BombaCombustivel com os atributos e métodos solicitados, e um menu para que o usuário possa abastecer por valor ou por litro, alterar o valor do litro, alterar o tipo de combustível e alterar a quantidade de combustível.\n"
      ],
      "metadata": {
        "id": "SWPYISVHpIE3"
      }
    },
    {
      "cell_type": "markdown",
      "source": [
        "Classe carro: Implemente uma classe chamada Carro com as seguintes propriedades:\n",
        "\n",
        "Um veículo tem um certo consumo de combustível (medidos em km / litro) e uma certa quantidade de combustível no tanque.\n",
        "O consumo é especificado no construtor e o nível de combustível inicial é 0.\n",
        "Forneça um método andar( ) que simule o ato de dirigir o veículo por uma certa distância, reduzindo o nível de combustível no tanque de gasolina.\n",
        "Forneça um método obterGasolina( ), que retorna o nível atual de combustível.\n",
        "Forneça um método adicionarGasolina( ), para abastecer o tanque. Exemplo de uso:\n",
        "meuFusca = Carro(15);           # 15 quilômetros por litro de combustível.\n",
        "meuFusca.adicionarGasolina(20); # abastece com 20 litros de combustível.\n",
        "meuFusca.andar(100);            # anda 100 quilômetros.\n",
        "meuFusca.obterGasolina()        # Imprime o combustível que resta no tanque.\n",
        "\n"
      ],
      "metadata": {
        "id": "zZwLecpipWvw"
      }
    },
    {
      "cell_type": "code",
      "source": [
        "class Carro:\n",
        "    def __init__(self, consumo):\n",
        "        self.consumo = consumo\n",
        "        self.gasolina = 0\n",
        "\n",
        "    def andar(self, distancia):\n",
        "        if distancia > 0:\n",
        "            litros_consumidos = distancia / self.consumo\n",
        "            if litros_consumidos <= self.gasolina:\n",
        "                self.gasolina -= litros_consumidos\n",
        "                print(f\"Dirigiu {distancia} km. Combustível restante: {self.gasolina:.2f} litros.\")\n",
        "            else:\n",
        "                print(\"Não há combustível suficiente para essa viagem.\")\n",
        "        else:\n",
        "            print(\"Distância inválida.\")\n",
        "\n",
        "    def obter_gasolina(self):\n",
        "        return self.gasolina\n",
        "\n",
        "    def adicionar_gasolina(self, litros):\n",
        "        if litros > 0:\n",
        "            self.gasolina += litros\n",
        "            print(f\"Abastecido com {litros} litros. Combustível total: {self.gasolina:.2f} litros.\")\n",
        "        else:\n",
        "            print(\"Quantidade inválida.\")\n",
        "\n",
        "# Exemplo de uso:\n",
        "meuFusca = Carro(15)  # 15 quilômetros por litro de combustível.\n",
        "#meuFusca.adicionarGasolina(20)  # abastece com 20 litros de combustível.\n",
        "meuFusca.adicionar_gasolina(20)  # abastece com 20 litros de combustível.\n",
        "meuFusca.andar(100)  # anda 100 quilômetros.\n",
        "print(meuFusca.obter_gasolina())  # Imprime o combustível que resta no tanque.\n"
      ],
      "metadata": {
        "colab": {
          "base_uri": "https://localhost:8080/"
        },
        "id": "X0jKjpn9pYWV",
        "outputId": "c5d09243-a535-4b01-956b-f92fcd52754c"
      },
      "execution_count": 5,
      "outputs": [
        {
          "output_type": "stream",
          "name": "stdout",
          "text": [
            "Abastecido com 20 litros. Combustível total: 20.00 litros.\n",
            "Dirigiu 100 km. Combustível restante: 13.33 litros.\n",
            "13.333333333333332\n"
          ]
        }
      ]
    },
    {
      "cell_type": "markdown",
      "source": [
        "Classe Conta de Investimento: Faça uma classe contaInvestimento que seja semelhante a classe contaBancaria, com a diferença de que se adicione um atributo taxaJuros. Forneça um construtor que configure tanto o saldo inicial como a taxa de juros. Forneça um método adicioneJuros (sem parâmetro explícito) que adicione juros à conta. Escreva um programa que construa uma poupança com um saldo inicial de R$1000,00 e uma taxa de juros de 10%. Depois aplique o método adicioneJuros() cinco vezes e imprime o saldo resultante."
      ],
      "metadata": {
        "id": "v6_cdoPGqJ6U"
      }
    },
    {
      "cell_type": "markdown",
      "source": [
        "Explicação:\n",
        "\n",
        "A classe ContaInvestimento tem dois atributos: saldo e taxa_juros, que são inicializados no construtor __init__.\n",
        "O método adicione_juros adiciona juros à conta, calculando o valor dos juros como a taxa de juros multiplicada pelo saldo atual.\n",
        "O método imprime_saldo imprime o saldo atual da conta.\n",
        "O programa cria uma poupança com um saldo inicial de R$1000,00 e uma taxa de juros de 10%, e aplica o método adicione_juros cinco vezes, imprimindo o saldo resultante após cada aplicação."
      ],
      "metadata": {
        "id": "XdVWmaiyqY4C"
      }
    },
    {
      "cell_type": "code",
      "source": [
        "class ContaInvestimento:\n",
        "    def __init__(self, saldo_inicial, taxa_juros):\n",
        "        self.saldo = saldo_inicial\n",
        "        self.taxa_juros = taxa_juros / 100  # converte taxa de juros para decimal\n",
        "\n",
        "    def adicione_juros(self):\n",
        "        juros = self.saldo * self.taxa_juros\n",
        "        self.saldo += juros\n",
        "        print(f\"Juros adicionados: R$ {juros:.2f}\")\n",
        "\n",
        "    def imprime_saldo(self):\n",
        "        print(f\"Saldo atual: R$ {self.saldo:.2f}\")\n",
        "\n",
        "# Programa que constrói uma poupança e aplica o método adicioneJuros()\n",
        "poupanca = ContaInvestimento(1000, 10)\n",
        "poupanca.imprime_saldo()\n",
        "\n",
        "for _ in range(5):\n",
        "    poupanca.adicione_juros()\n",
        "    poupanca.imprime_saldo()"
      ],
      "metadata": {
        "colab": {
          "base_uri": "https://localhost:8080/"
        },
        "id": "htSnRIlEqKhX",
        "outputId": "ba619268-6c86-4f95-ea9b-f81efee81ff4"
      },
      "execution_count": 6,
      "outputs": [
        {
          "output_type": "stream",
          "name": "stdout",
          "text": [
            "Saldo atual: R$ 1000.00\n",
            "Juros adicionados: R$ 100.00\n",
            "Saldo atual: R$ 1100.00\n",
            "Juros adicionados: R$ 110.00\n",
            "Saldo atual: R$ 1210.00\n",
            "Juros adicionados: R$ 121.00\n",
            "Saldo atual: R$ 1331.00\n",
            "Juros adicionados: R$ 133.10\n",
            "Saldo atual: R$ 1464.10\n",
            "Juros adicionados: R$ 146.41\n",
            "Saldo atual: R$ 1610.51\n"
          ]
        }
      ]
    },
    {
      "cell_type": "markdown",
      "source": [
        "Classe Funcionário: Implemente a classe Funcionário. Um empregado tem um nome (um string) e um salário(um double). Escreva um construtor com dois parâmetros (nome e salário) e métodos para devolver nome e salário. Escreva um pequeno programa que teste sua classe."
      ],
      "metadata": {
        "id": "hE68gaL7qrCl"
      }
    },
    {
      "cell_type": "code",
      "source": [
        "class Funcionario:\n",
        "    def __init__(self, nome, salario):\n",
        "        self.nome = nome\n",
        "        self.salario = salario\n",
        "\n",
        "    def get_nome(self):\n",
        "        return self.nome\n",
        "\n",
        "    def get_salario(self):\n",
        "        return self.salario\n",
        "\n",
        "    def __str__(self):\n",
        "        return f\"Nome: {self.nome}, Salário: R$ {self.salario:.2f}\"\n",
        "\n",
        "# Programa que testa a classe Funcionário\n",
        "funcionario1 = Funcionario(\"João\", 5000.0)\n",
        "funcionario2 = Funcionario(\"Maria\", 6000.0)\n",
        "\n",
        "print(funcionario1)\n",
        "print(funcionario2)\n",
        "\n",
        "print(\"Nome do funcionário 1:\", funcionario1.get_nome())\n",
        "print(\"Salário do funcionário 1:\", funcionario1.get_salario())\n",
        "\n",
        "print(\"Nome do funcionário 2:\", funcionario2.get_nome())\n",
        "print(\"Salário do funcionário 2:\", funcionario2.get_salario())"
      ],
      "metadata": {
        "colab": {
          "base_uri": "https://localhost:8080/"
        },
        "id": "sybj7ME5qcg7",
        "outputId": "cd7735b8-c7e8-420d-bdc8-1ec9ed07d637"
      },
      "execution_count": 7,
      "outputs": [
        {
          "output_type": "stream",
          "name": "stdout",
          "text": [
            "Nome: João, Salário: R$ 5000.00\n",
            "Nome: Maria, Salário: R$ 6000.00\n",
            "Nome do funcionário 1: João\n",
            "Salário do funcionário 1: 5000.0\n",
            "Nome do funcionário 2: Maria\n",
            "Salário do funcionário 2: 6000.0\n"
          ]
        }
      ]
    },
    {
      "cell_type": "markdown",
      "source": [],
      "metadata": {
        "id": "mUQXHYGTq2mY"
      }
    },
    {
      "cell_type": "code",
      "source": [
        "class Funcionario:\n",
        "    def __init__(self, nome, salario):\n",
        "        self.nome = nome\n",
        "        self.salario = salario\n",
        "\n",
        "    def get_nome(self):\n",
        "        return self.nome\n",
        "\n",
        "    def get_salario(self):\n",
        "        return self.salario\n",
        "\n",
        "    def aumentar_salario(self, porcentual_de_aumento):\n",
        "        aumento = self.salario * (porcentual_de_aumento / 100)\n",
        "        self.salario += aumento\n",
        "        print(f\"Salário de {self.nome} aumentado em {porcentual_de_aumento}%.\")\n",
        "\n",
        "    def __str__(self):\n",
        "        return f\"Nome: {self.nome}, Salário: R$ {self.salario:.2f}\"\n",
        "\n",
        "# Exemplo de uso:\n",
        "harry = Funcionario(\"Harry\", 25000)\n",
        "print(harry)\n",
        "harry.aumentar_salario(10)\n",
        "print(harry)"
      ],
      "metadata": {
        "colab": {
          "base_uri": "https://localhost:8080/"
        },
        "id": "-G8QOtMbq23X",
        "outputId": "23c50615-91d4-4fb4-edc7-355e959f13c3"
      },
      "execution_count": 8,
      "outputs": [
        {
          "output_type": "stream",
          "name": "stdout",
          "text": [
            "Nome: Harry, Salário: R$ 25000.00\n",
            "Salário de Harry aumentado em 10%.\n",
            "Nome: Harry, Salário: R$ 27500.00\n"
          ]
        }
      ]
    },
    {
      "cell_type": "markdown",
      "source": [
        "Classe Bichinho Virtual++: Melhore o programa do bichinho virtual, permitindo que o usuário especifique quanto de comida ele fornece ao bichinho e por quanto tempo ele brinca com o bichinho. Faça com que estes valores afetem quão rapidamente os níveis de fome e tédio caem.\n",
        "\n",
        "Crie uma \"porta escondida\" no programa do programa do bichinho virtual que mostre os valores exatos dos atributos do objeto. Consiga isto mostrando o objeto quando uma opção secreta, não listada no menu, for informada na escolha do usuário. Dica: acrescente um método especial str() à classe Bichinho.\n",
        "\n",
        "Crie uma Fazenda de Bichinhos instanciando vários objetos bichinho e mantendo o controle deles através de uma lista. Imite o funcionamento do programa básico, mas ao invés de exigis que o usuário tome conta de um único bichinho, exija que ele tome conta da fazenda inteira. Cada opção do menu deveria permitir que o usuário executasse uma ação para todos os bichinhos (alimentar todos os bichinhos, brincar com todos os bichinhos, ou ouvir a todos os bichinhos). Para tornar o programa mais interessante, dê para cada bichinho um nivel inicial aleatório de fome e tédio."
      ],
      "metadata": {
        "id": "lhrzWU2-rlYE"
      }
    },
    {
      "cell_type": "code",
      "source": [
        "import random\n",
        "\n",
        "class BichinhoVirtual:\n",
        "    def __init__(self, nome):\n",
        "        self.nome = nome\n",
        "        self.fome = random.randint(1, 10)\n",
        "        self.tedio = random.randint(1, 10)\n",
        "\n",
        "    def alimentar(self, quantidade):\n",
        "        self.fome -= quantidade\n",
        "        if self.fome < 0:\n",
        "            self.fome = 0\n",
        "        print(f\"{self.nome} foi alimentado com {quantidade} de comida.\")\n",
        "\n",
        "    def brincar(self, tempo):\n",
        "        self.tedio -= tempo\n",
        "        if self.tedio < 0:\n",
        "            self.tedio = 0\n",
        "        print(f\"{self.nome} brincou por {tempo} minutos.\")\n",
        "\n",
        "    def ouvir(self):\n",
        "        print(f\"{self.nome} está com fome: {self.fome} e tédio: {self.tedio}\")\n",
        "\n",
        "    def __str__(self):\n",
        "        return f\"Nome: {self.nome}, Fome: {self.fome}, Tédio: {self.tedio}\"\n",
        "\n",
        "def main():\n",
        "    bichinhos = [BichinhoVirtual(\"Bichinho 1\"), BichinhoVirtual(\"Bichinho 2\"), BichinhoVirtual(\"Bichinho 3\")]\n",
        "\n",
        "    while True:\n",
        "        print(\"\\nOpções:\")\n",
        "        print(\"1. Alimentar todos os bichinhos\")\n",
        "        print(\"2. Brincar com todos os bichinhos\")\n",
        "        print(\"3. Ouvir todos os bichinhos\")\n",
        "        print(\"4. Mostrar atributos de todos os bichinhos\")\n",
        "        print(\"5. Sair\")\n",
        "\n",
        "        opcao = input(\"Digite a opção: \")\n",
        "\n",
        "        if opcao == \"1\":\n",
        "            quantidade = int(input(\"Digite a quantidade de comida: \"))\n",
        "            for bichinho in bichinhos:\n",
        "                bichinho.alimentar(quantidade)\n",
        "        elif opcao == \"2\":\n",
        "            tempo = int(input(\"Digite o tempo de brincadeira: \"))\n",
        "            for bichinho in bichinhos:\n",
        "                bichinho.brincar(tempo)\n",
        "        elif opcao == \"3\":\n",
        "            for bichinho in bichinhos:\n",
        "                bichinho.ouvir()\n",
        "        elif opcao == \"4\":\n",
        "            for bichinho in bichinhos:\n",
        "                print(bichinho)\n",
        "        elif opcao == \"5\":\n",
        "            break\n",
        "        else:\n",
        "            print(\"Opção inválida!\")\n",
        "\n",
        "if __name__ == \"__main__\":\n",
        "    main()"
      ],
      "metadata": {
        "colab": {
          "base_uri": "https://localhost:8080/",
          "height": 1000
        },
        "id": "Um10wPb0rmyr",
        "outputId": "a6a58a6a-50f7-4fb8-b696-59b37c409d6b"
      },
      "execution_count": 9,
      "outputs": [
        {
          "output_type": "stream",
          "name": "stdout",
          "text": [
            "\n",
            "Opções:\n",
            "1. Alimentar todos os bichinhos\n",
            "2. Brincar com todos os bichinhos\n",
            "3. Ouvir todos os bichinhos\n",
            "4. Mostrar atributos de todos os bichinhos\n",
            "5. Sair\n",
            "Digite a opção: 3\n",
            "Bichinho 1 está com fome: 3 e tédio: 2\n",
            "Bichinho 2 está com fome: 7 e tédio: 5\n",
            "Bichinho 3 está com fome: 3 e tédio: 6\n",
            "\n",
            "Opções:\n",
            "1. Alimentar todos os bichinhos\n",
            "2. Brincar com todos os bichinhos\n",
            "3. Ouvir todos os bichinhos\n",
            "4. Mostrar atributos de todos os bichinhos\n",
            "5. Sair\n",
            "Digite a opção: 1\n",
            "Digite a quantidade de comida: 22\n",
            "Bichinho 1 foi alimentado com 22 de comida.\n",
            "Bichinho 2 foi alimentado com 22 de comida.\n",
            "Bichinho 3 foi alimentado com 22 de comida.\n",
            "\n",
            "Opções:\n",
            "1. Alimentar todos os bichinhos\n",
            "2. Brincar com todos os bichinhos\n",
            "3. Ouvir todos os bichinhos\n",
            "4. Mostrar atributos de todos os bichinhos\n",
            "5. Sair\n",
            "Digite a opção: 4\n",
            "Nome: Bichinho 1, Fome: 0, Tédio: 2\n",
            "Nome: Bichinho 2, Fome: 0, Tédio: 5\n",
            "Nome: Bichinho 3, Fome: 0, Tédio: 6\n",
            "\n",
            "Opções:\n",
            "1. Alimentar todos os bichinhos\n",
            "2. Brincar com todos os bichinhos\n",
            "3. Ouvir todos os bichinhos\n",
            "4. Mostrar atributos de todos os bichinhos\n",
            "5. Sair\n"
          ]
        },
        {
          "output_type": "error",
          "ename": "KeyboardInterrupt",
          "evalue": "Interrupted by user",
          "traceback": [
            "\u001b[0;31m---------------------------------------------------------------------------\u001b[0m",
            "\u001b[0;31mKeyboardInterrupt\u001b[0m                         Traceback (most recent call last)",
            "\u001b[0;32m<ipython-input-9-58ee309fe8c7>\u001b[0m in \u001b[0;36m<cell line: 59>\u001b[0;34m()\u001b[0m\n\u001b[1;32m     58\u001b[0m \u001b[0;34m\u001b[0m\u001b[0m\n\u001b[1;32m     59\u001b[0m \u001b[0;32mif\u001b[0m \u001b[0m__name__\u001b[0m \u001b[0;34m==\u001b[0m \u001b[0;34m\"__main__\"\u001b[0m\u001b[0;34m:\u001b[0m\u001b[0;34m\u001b[0m\u001b[0;34m\u001b[0m\u001b[0m\n\u001b[0;32m---> 60\u001b[0;31m     \u001b[0mmain\u001b[0m\u001b[0;34m(\u001b[0m\u001b[0;34m)\u001b[0m\u001b[0;34m\u001b[0m\u001b[0;34m\u001b[0m\u001b[0m\n\u001b[0m",
            "\u001b[0;32m<ipython-input-9-58ee309fe8c7>\u001b[0m in \u001b[0;36mmain\u001b[0;34m()\u001b[0m\n\u001b[1;32m     36\u001b[0m         \u001b[0mprint\u001b[0m\u001b[0;34m(\u001b[0m\u001b[0;34m\"5. Sair\"\u001b[0m\u001b[0;34m)\u001b[0m\u001b[0;34m\u001b[0m\u001b[0;34m\u001b[0m\u001b[0m\n\u001b[1;32m     37\u001b[0m \u001b[0;34m\u001b[0m\u001b[0m\n\u001b[0;32m---> 38\u001b[0;31m         \u001b[0mopcao\u001b[0m \u001b[0;34m=\u001b[0m \u001b[0minput\u001b[0m\u001b[0;34m(\u001b[0m\u001b[0;34m\"Digite a opção: \"\u001b[0m\u001b[0;34m)\u001b[0m\u001b[0;34m\u001b[0m\u001b[0;34m\u001b[0m\u001b[0m\n\u001b[0m\u001b[1;32m     39\u001b[0m \u001b[0;34m\u001b[0m\u001b[0m\n\u001b[1;32m     40\u001b[0m         \u001b[0;32mif\u001b[0m \u001b[0mopcao\u001b[0m \u001b[0;34m==\u001b[0m \u001b[0;34m\"1\"\u001b[0m\u001b[0;34m:\u001b[0m\u001b[0;34m\u001b[0m\u001b[0;34m\u001b[0m\u001b[0m\n",
            "\u001b[0;32m/usr/local/lib/python3.10/dist-packages/ipykernel/kernelbase.py\u001b[0m in \u001b[0;36mraw_input\u001b[0;34m(self, prompt)\u001b[0m\n\u001b[1;32m    849\u001b[0m                 \u001b[0;34m\"raw_input was called, but this frontend does not support input requests.\"\u001b[0m\u001b[0;34m\u001b[0m\u001b[0;34m\u001b[0m\u001b[0m\n\u001b[1;32m    850\u001b[0m             )\n\u001b[0;32m--> 851\u001b[0;31m         return self._input_request(str(prompt),\n\u001b[0m\u001b[1;32m    852\u001b[0m             \u001b[0mself\u001b[0m\u001b[0;34m.\u001b[0m\u001b[0m_parent_ident\u001b[0m\u001b[0;34m,\u001b[0m\u001b[0;34m\u001b[0m\u001b[0;34m\u001b[0m\u001b[0m\n\u001b[1;32m    853\u001b[0m             \u001b[0mself\u001b[0m\u001b[0;34m.\u001b[0m\u001b[0m_parent_header\u001b[0m\u001b[0;34m,\u001b[0m\u001b[0;34m\u001b[0m\u001b[0;34m\u001b[0m\u001b[0m\n",
            "\u001b[0;32m/usr/local/lib/python3.10/dist-packages/ipykernel/kernelbase.py\u001b[0m in \u001b[0;36m_input_request\u001b[0;34m(self, prompt, ident, parent, password)\u001b[0m\n\u001b[1;32m    893\u001b[0m             \u001b[0;32mexcept\u001b[0m \u001b[0mKeyboardInterrupt\u001b[0m\u001b[0;34m:\u001b[0m\u001b[0;34m\u001b[0m\u001b[0;34m\u001b[0m\u001b[0m\n\u001b[1;32m    894\u001b[0m                 \u001b[0;31m# re-raise KeyboardInterrupt, to truncate traceback\u001b[0m\u001b[0;34m\u001b[0m\u001b[0;34m\u001b[0m\u001b[0m\n\u001b[0;32m--> 895\u001b[0;31m                 \u001b[0;32mraise\u001b[0m \u001b[0mKeyboardInterrupt\u001b[0m\u001b[0;34m(\u001b[0m\u001b[0;34m\"Interrupted by user\"\u001b[0m\u001b[0;34m)\u001b[0m \u001b[0;32mfrom\u001b[0m \u001b[0;32mNone\u001b[0m\u001b[0;34m\u001b[0m\u001b[0;34m\u001b[0m\u001b[0m\n\u001b[0m\u001b[1;32m    896\u001b[0m             \u001b[0;32mexcept\u001b[0m \u001b[0mException\u001b[0m \u001b[0;32mas\u001b[0m \u001b[0me\u001b[0m\u001b[0;34m:\u001b[0m\u001b[0;34m\u001b[0m\u001b[0;34m\u001b[0m\u001b[0m\n\u001b[1;32m    897\u001b[0m                 \u001b[0mself\u001b[0m\u001b[0;34m.\u001b[0m\u001b[0mlog\u001b[0m\u001b[0;34m.\u001b[0m\u001b[0mwarning\u001b[0m\u001b[0;34m(\u001b[0m\u001b[0;34m\"Invalid Message:\"\u001b[0m\u001b[0;34m,\u001b[0m \u001b[0mexc_info\u001b[0m\u001b[0;34m=\u001b[0m\u001b[0;32mTrue\u001b[0m\u001b[0;34m)\u001b[0m\u001b[0;34m\u001b[0m\u001b[0;34m\u001b[0m\u001b[0m\n",
            "\u001b[0;31mKeyboardInterrupt\u001b[0m: Interrupted by user"
          ]
        }
      ]
    },
    {
      "cell_type": "markdown",
      "source": [
        "Crie uma \"porta escondida\" no programa do programa do bichinho virtual que mostre os valores exatos dos atributos do objeto. Consiga isto mostrando o objeto quando uma opção secreta, não listada no menu, for informada na escolha do usuário. Dica: acrescente um método especial str() à classe Bichinho."
      ],
      "metadata": {
        "id": "Dn57mX_OsIU7"
      }
    },
    {
      "cell_type": "code",
      "source": [
        "import random\n",
        "\n",
        "class BichinhoVirtual:\n",
        "    def __init__(self, nome):\n",
        "        self.nome = nome\n",
        "        self.fome = random.randint(1, 10)\n",
        "        self.tedio = random.randint(1, 10)\n",
        "\n",
        "    def alimentar(self, quantidade):\n",
        "        self.fome -= quantidade\n",
        "        if self.fome < 0:\n",
        "            self.fome = 0\n",
        "        print(f\"{self.nome} foi alimentado com {quantidade} de comida.\")\n",
        "\n",
        "    def brincar(self, tempo):\n",
        "        self.tedio -= tempo\n",
        "        if self.tedio < 0:\n",
        "            self.tedio = 0\n",
        "        print(f\"{self.nome} brincou por {tempo} minutos.\")\n",
        "\n",
        "    def ouvir(self):\n",
        "        print(f\"{self.nome} está com fome: {self.fome} e tédio: {self.tedio}\")\n",
        "\n",
        "    def __str__(self):\n",
        "        return f\"Nome: {self.nome}, Fome: {self.fome}, Tédio: {self.tedio}\"\n",
        "\n",
        "def main():\n",
        "    bichinhos = [BichinhoVirtual(\"Bichinho 1\"), BichinhoVirtual(\"Bichinho 2\"), BichinhoVirtual(\"Bichinho 3\")]\n",
        "\n",
        "    while True:\n",
        "        print(\"\\nOpções:\")\n",
        "        print(\"1. Alimentar todos os bichinhos\")\n",
        "        print(\"2. Brincar com todos os bichinhos\")\n",
        "        print(\"3. Ouvir todos os bichinhos\")\n",
        "        print(\"4. Mostrar atributos de todos os bichinhos\")\n",
        "        print(\"5. Sair\")\n",
        "        print(\"6. Porta escondida (digite 'segredo' para acessar)\")\n",
        "\n",
        "        opcao = input(\"Digite a opção: \")\n",
        "\n",
        "        if opcao == \"1\":\n",
        "            quantidade = int(input(\"Digite a quantidade de comida: \"))\n",
        "            for bichinho in bichinhos:\n",
        "                bichinho.alimentar(quantidade)\n",
        "        elif opcao == \"2\":\n",
        "            tempo = int(input(\"Digite o tempo de brincadeira: \"))\n",
        "            for bichinho in bichinhos:\n",
        "                bichinho.brincar(tempo)\n",
        "        elif opcao == \"3\":\n",
        "            for bichinho in bichinhos:\n",
        "                bichinho.ouvir()\n",
        "        elif opcao == \"4\":\n",
        "            for bichinho in bichinhos:\n",
        "                print(bichinho)\n",
        "        elif opcao == \"5\":\n",
        "            break\n",
        "        elif opcao.lower() == \"segredo\":\n",
        "            for bichinho in bichinhos:\n",
        "                print(f\"Atributos de {bichinho.nome}:\")\n",
        "                print(f\"Fome: {bichinho.fome}\")\n",
        "                print(f\"Tédio: {bichinho.tedio}\")\n",
        "                print(\"------------------------\")\n",
        "        else:\n",
        "            print(\"Opção inválida!\")\n",
        "\n",
        "if __name__ == \"__main__\":\n",
        "    main()\n",
        ""
      ],
      "metadata": {
        "colab": {
          "base_uri": "https://localhost:8080/"
        },
        "id": "RoDUaB_usIgv",
        "outputId": "da9544dc-fe59-49cd-d5a1-f6db8dabe10d"
      },
      "execution_count": 10,
      "outputs": [
        {
          "name": "stdout",
          "output_type": "stream",
          "text": [
            "\n",
            "Opções:\n",
            "1. Alimentar todos os bichinhos\n",
            "2. Brincar com todos os bichinhos\n",
            "3. Ouvir todos os bichinhos\n",
            "4. Mostrar atributos de todos os bichinhos\n",
            "5. Sair\n",
            "6. Porta escondida (digite 'segredo' para acessar)\n",
            "Digite a opção: 6\n",
            "Opção inválida!\n",
            "\n",
            "Opções:\n",
            "1. Alimentar todos os bichinhos\n",
            "2. Brincar com todos os bichinhos\n",
            "3. Ouvir todos os bichinhos\n",
            "4. Mostrar atributos de todos os bichinhos\n",
            "5. Sair\n",
            "6. Porta escondida (digite 'segredo' para acessar)\n",
            "Digite a opção: segredo\n",
            "Atributos de Bichinho 1:\n",
            "Fome: 10\n",
            "Tédio: 9\n",
            "------------------------\n",
            "Atributos de Bichinho 2:\n",
            "Fome: 1\n",
            "Tédio: 9\n",
            "------------------------\n",
            "Atributos de Bichinho 3:\n",
            "Fome: 8\n",
            "Tédio: 5\n",
            "------------------------\n",
            "\n",
            "Opções:\n",
            "1. Alimentar todos os bichinhos\n",
            "2. Brincar com todos os bichinhos\n",
            "3. Ouvir todos os bichinhos\n",
            "4. Mostrar atributos de todos os bichinhos\n",
            "5. Sair\n",
            "6. Porta escondida (digite 'segredo' para acessar)\n",
            "Digite a opção: 4\n",
            "Nome: Bichinho 1, Fome: 10, Tédio: 9\n",
            "Nome: Bichinho 2, Fome: 1, Tédio: 9\n",
            "Nome: Bichinho 3, Fome: 8, Tédio: 5\n",
            "\n",
            "Opções:\n",
            "1. Alimentar todos os bichinhos\n",
            "2. Brincar com todos os bichinhos\n",
            "3. Ouvir todos os bichinhos\n",
            "4. Mostrar atributos de todos os bichinhos\n",
            "5. Sair\n",
            "6. Porta escondida (digite 'segredo' para acessar)\n",
            "Digite a opção: 5\n"
          ]
        }
      ]
    },
    {
      "cell_type": "markdown",
      "source": [
        "Explicação:\n",
        "\n",
        "Adicionei uma opção secreta \"6. Porta escondida (digite 'segredo' para acessar)\" ao menu.\n",
        "Se o usuário digitar \"segredo\" (independente da caixa), o programa mostrará os atributos de cada bichinho, incluindo a fome e o tédio.\n",
        "Note que o programa usa o método lower() para converter a entrada do usuário para minúsculas, para que a opção secreta seja case-insensitive.\n",
        "\n"
      ],
      "metadata": {
        "id": "_bxpIKs8sIxK"
      }
    },
    {
      "cell_type": "markdown",
      "source": [
        "Crie uma Fazenda de Bichinhos instanciando vários objetos bichinho e mantendo o controle deles através de uma lista. Imite o funcionamento do programa básico, mas ao invés de exigis que o usuário tome conta de um único bichinho, exija que ele tome conta da fazenda inteira. Cada opção do menu deveria permitir que o usuário executasse uma ação para todos os bichinhos (alimentar todos os bichinhos, brincar com todos os bichinhos, ou ouvir a todos os bichinhos). Para tornar o programa mais interessante, dê para cada bichinho um nivel inicial aleatório de fome e tédio"
      ],
      "metadata": {
        "id": "uPXWO0EqsxX3"
      }
    },
    {
      "cell_type": "code",
      "source": [
        "import random\n",
        "\n",
        "class BichinhoVirtual:\n",
        "    def __init__(self, nome):\n",
        "        self.nome = nome\n",
        "        self.fome = random.randint(1, 10)\n",
        "        self.tedio = random.randint(1, 10)\n",
        "\n",
        "    def alimentar(self, quantidade):\n",
        "        self.fome -= quantidade\n",
        "        if self.fome < 0:\n",
        "            self.fome = 0\n",
        "        print(f\"{self.nome} foi alimentado com {quantidade} de comida.\")\n",
        "\n",
        "    def brincar(self, tempo):\n",
        "        self.tedio -= tempo\n",
        "        if self.tedio < 0:\n",
        "            self.tedio = 0\n",
        "        print(f\"{self.nome} brincou por {tempo} minutos.\")\n",
        "\n",
        "    def ouvir(self):\n",
        "        print(f\"{self.nome} está com fome: {self.fome} e tédio: {self.tedio}\")\n",
        "\n",
        "def main():\n",
        "    bichinhos = [\n",
        "        BichinhoVirtual(\"Bichinho 1\"),\n",
        "        BichinhoVirtual(\"Bichinho 2\"),\n",
        "        BichinhoVirtual(\"Bichinho 3\"),\n",
        "        BichinhoVirtual(\"Bichinho 4\"),\n",
        "        BichinhoVirtual(\"Bichinho 5\")\n",
        "    ]\n",
        "\n",
        "    while True:\n",
        "        print(\"\\nOpções:\")\n",
        "        print(\"1. Alimentar todos os bichinhos\")\n",
        "        print(\"2. Brincar com todos os bichinhos\")\n",
        "        print(\"3. Ouvir todos os bichinhos\")\n",
        "        print(\"4. Sair\")\n",
        "\n",
        "        opcao = input(\"Digite a opção: \")\n",
        "\n",
        "        if opcao == \"1\":\n",
        "            quantidade = int(input(\"Digite a quantidade de comida: \"))\n",
        "            for bichinho in bichinhos:\n",
        "                bichinho.alimentar(quantidade)\n",
        "        elif opcao == \"2\":\n",
        "            tempo = int(input(\"Digite o tempo de brincadeira: \"))\n",
        "            for bichinho in bichinhos:\n",
        "                bichinho.brincar(tempo)\n",
        "        elif opcao == \"3\":\n",
        "            for bichinho in bichinhos:\n",
        "                bichinho.ouvir()\n",
        "        elif opcao == \"4\":\n",
        "            break\n",
        "        else:\n",
        "            print(\"Opção inválida!\")\n",
        "\n",
        "if __name__ == \"__main__\":\n",
        "    main()"
      ],
      "metadata": {
        "colab": {
          "base_uri": "https://localhost:8080/"
        },
        "id": "SNdiBSpasrR8",
        "outputId": "85c799c2-00c7-4e3e-edf2-ea57730738e8"
      },
      "execution_count": null,
      "outputs": [
        {
          "output_type": "stream",
          "name": "stdout",
          "text": [
            "\n",
            "Opções:\n",
            "1. Alimentar todos os bichinhos\n",
            "2. Brincar com todos os bichinhos\n",
            "3. Ouvir todos os bichinhos\n",
            "4. Sair\n",
            "Digite a opção: 2\n",
            "Digite o tempo de brincadeira: 3\n",
            "Bichinho 1 brincou por 3 minutos.\n",
            "Bichinho 2 brincou por 3 minutos.\n",
            "Bichinho 3 brincou por 3 minutos.\n",
            "Bichinho 4 brincou por 3 minutos.\n",
            "Bichinho 5 brincou por 3 minutos.\n",
            "\n",
            "Opções:\n",
            "1. Alimentar todos os bichinhos\n",
            "2. Brincar com todos os bichinhos\n",
            "3. Ouvir todos os bichinhos\n",
            "4. Sair\n"
          ]
        }
      ]
    },
    {
      "cell_type": "markdown",
      "source": [
        "Explicação:\n",
        "\n",
        "Criei uma lista de 5 bichinhos com nomes diferentes.\n",
        "Cada opção do menu permite que o usuário execute uma ação para todos os bichinhos.\n",
        "Os bichinhos têm níveis iniciais aleatórios de fome e tédio.\n",
        "Note que o programa usa o mesmo código que o programa básico, mas com uma lista de bichinhos em vez de um único bichinho."
      ],
      "metadata": {
        "id": "wiaHIQedtA6V"
      }
    }
  ],
  "metadata": {
    "colab": {
      "provenance": [],
      "authorship_tag": "ABX9TyOqGKk1XDcC9t61jO1rmPGt",
      "include_colab_link": true
    },
    "kernelspec": {
      "display_name": "Python 3",
      "name": "python3"
    },
    "language_info": {
      "name": "python"
    }
  },
  "nbformat": 4,
  "nbformat_minor": 0
}