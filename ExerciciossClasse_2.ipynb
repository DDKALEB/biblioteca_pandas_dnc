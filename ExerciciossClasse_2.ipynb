{
  "nbformat": 4,
  "nbformat_minor": 0,
  "metadata": {
    "colab": {
      "provenance": [],
      "authorship_tag": "ABX9TyNl1LSOzbEncTuAJ/u3/4gH",
      "include_colab_link": true
    },
    "kernelspec": {
      "name": "python3",
      "display_name": "Python 3"
    },
    "language_info": {
      "name": "python"
    }
  },
  "cells": [
    {
      "cell_type": "markdown",
      "metadata": {
        "id": "view-in-github",
        "colab_type": "text"
      },
      "source": [
        "<a href=\"https://colab.research.google.com/github/DDKALEB/biblioteca_pandas_dnc/blob/main/ExerciciossClasse_2.ipynb\" target=\"_parent\"><img src=\"https://colab.research.google.com/assets/colab-badge.svg\" alt=\"Open In Colab\"/></a>"
      ]
    },
    {
      "cell_type": "markdown",
      "source": [
        "Classe Ponto e Retangulo: Faça um programa completo utilizando funções e classes que:\n",
        "\n",
        "Possua uma classe chamada Ponto, com os atributos x e y.\n",
        "Possua uma classe chamada Retangulo, com os atributos largura e altura.\n",
        "Possua uma função para imprimir os valores da classe Ponto\n",
        "Possua uma função para encontrar o centro de um Retângulo.\n",
        "Você deve criar alguns objetos da classe Retangulo.\n",
        "Cada objeto deve ter um vértice de partida, por exemplo, o vértice inferior esquerdo do retângulo, que deve ser um objeto da classe Ponto.\n",
        "A função para encontrar o centro do retângulo deve retornar o valor para um objeto do tipo ponto que indique os valores de x e y para o centro do objeto.\n",
        "O valor do centro do objeto deve ser mostrado na tela\n",
        "Crie um menu para alterar os valores do retângulo e imprimir o centro deste retângulo."
      ],
      "metadata": {
        "id": "vrMtrQEXm_pr"
      }
    },
    {
      "cell_type": "code",
      "execution_count": null,
      "metadata": {
        "colab": {
          "base_uri": "https://localhost:8080/"
        },
        "id": "LK_t6-Irm9Um",
        "outputId": "56907134-d589-428b-f47d-18787dda77fc"
      },
      "outputs": [
        {
          "output_type": "stream",
          "name": "stdout",
          "text": [
            "\n",
            "Opções:\n",
            "1. Imprimir centro do retângulo 1\n",
            "2. Imprimir centro do retângulo 2\n",
            "3. Imprimir centro do retângulo 3\n",
            "4. Alterar largura do retângulo 1\n",
            "5. Alterar altura do retângulo 1\n",
            "6. Alterar vértice de partida do retângulo 1\n",
            "7. Sair\n",
            "Digite a opção: 1\n",
            "Ponto: (5.0, 5.0)\n",
            "\n",
            "Opções:\n",
            "1. Imprimir centro do retângulo 1\n",
            "2. Imprimir centro do retângulo 2\n",
            "3. Imprimir centro do retângulo 3\n",
            "4. Alterar largura do retângulo 1\n",
            "5. Alterar altura do retângulo 1\n",
            "6. Alterar vértice de partida do retângulo 1\n",
            "7. Sair\n",
            "Digite a opção: 2\n",
            "Ponto: (20.0, 20.0)\n",
            "\n",
            "Opções:\n",
            "1. Imprimir centro do retângulo 1\n",
            "2. Imprimir centro do retângulo 2\n",
            "3. Imprimir centro do retângulo 3\n",
            "4. Alterar largura do retângulo 1\n",
            "5. Alterar altura do retângulo 1\n",
            "6. Alterar vértice de partida do retângulo 1\n",
            "7. Sair\n"
          ]
        }
      ],
      "source": [
        "class Ponto:\n",
        "    def __init__(self, x, y):\n",
        "        self.x = x\n",
        "        self.y = y\n",
        "\n",
        "    def imprimir(self):\n",
        "        print(f\"Ponto: ({self.x}, {self.y})\")\n",
        "\n",
        "class Retangulo:\n",
        "    def __init__(self, largura, altura, vertice_partida):\n",
        "        self.largura = largura\n",
        "        self.altura = altura\n",
        "        self.vertice_partida = vertice_partida\n",
        "\n",
        "    def encontrar_centro(self):\n",
        "        centro_x = self.vertice_partida.x + self.largura / 2\n",
        "        centro_y = self.vertice_partida.y + self.altura / 2\n",
        "        return Ponto(centro_x, centro_y)\n",
        "\n",
        "def main():\n",
        "    # Criando objetos da classe Ponto\n",
        "    ponto1 = Ponto(0, 0)\n",
        "    ponto2 = Ponto(10, 10)\n",
        "    ponto3 = Ponto(20, 20)\n",
        "\n",
        "    # Criando objetos da classe Retangulo\n",
        "    retangulo1 = Retangulo(10, 10, ponto1)\n",
        "    retangulo2 = Retangulo(20, 20, ponto2)\n",
        "    retangulo3 = Retangulo(30, 30, ponto3)\n",
        "\n",
        "    while True:\n",
        "        print(\"\\nOpções:\")\n",
        "        print(\"1. Imprimir centro do retângulo 1\")\n",
        "        print(\"2. Imprimir centro do retângulo 2\")\n",
        "        print(\"3. Imprimir centro do retângulo 3\")\n",
        "        print(\"4. Alterar largura do retângulo 1\")\n",
        "        print(\"5. Alterar altura do retângulo 1\")\n",
        "        print(\"6. Alterar vértice de partida do retângulo 1\")\n",
        "        print(\"7. Sair\")\n",
        "\n",
        "        opcao = input(\"Digite a opção: \")\n",
        "\n",
        "        if opcao == \"1\":\n",
        "            centro = retangulo1.encontrar_centro()\n",
        "            centro.imprimir()\n",
        "        elif opcao == \"2\":\n",
        "            centro = retangulo2.encontrar_centro()\n",
        "            centro.imprimir()\n",
        "        elif opcao == \"3\":\n",
        "            centro = retangulo3.encontrar_centro()\n",
        "            centro.imprimir()\n",
        "        elif opcao == \"4\":\n",
        "            largura = float(input(\"Digite a nova largura do retângulo 1: \"))\n",
        "            retangulo1.largura = largura\n",
        "        elif opcao == \"5\":\n",
        "            altura = float(input(\"Digite a nova altura do retângulo 1: \"))\n",
        "            retangulo1.altura = altura\n",
        "        elif opcao == \"6\":\n",
        "            x = float(input(\"Digite o novo x do vértice de partida do retângulo 1: \"))\n",
        "            y = float(input(\"Digite o novo y do vértice de partida do retângulo 1: \"))\n",
        "            retangulo1.vertice_partida = Ponto(x, y)\n",
        "        elif opcao == \"7\":\n",
        "            break\n",
        "        else:\n",
        "            print(\"Opção inválida!\")\n",
        "\n",
        "if __name__ == \"__main__\":\n",
        "    main()"
      ]
    },
    {
      "cell_type": "code",
      "source": [
        "#ste programa cria objetos da classe Ponto e Retangulo, e permite que o usuário imprima o centro de cada retângulo, altere a largura, altura e vértice de partida de um retângulo, e saia do programa."
      ],
      "metadata": {
        "id": "PP8Lt5uOneBZ"
      },
      "execution_count": null,
      "outputs": []
    }
  ]
}