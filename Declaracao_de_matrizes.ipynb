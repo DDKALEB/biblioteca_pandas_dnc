{
  "nbformat": 4,
  "nbformat_minor": 0,
  "metadata": {
    "colab": {
      "provenance": [],
      "authorship_tag": "ABX9TyP7xBvFs2RZOvzYEpbyjaJ0",
      "include_colab_link": true
    },
    "kernelspec": {
      "name": "python3",
      "display_name": "Python 3"
    },
    "language_info": {
      "name": "python"
    }
  },
  "cells": [
    {
      "cell_type": "markdown",
      "metadata": {
        "id": "view-in-github",
        "colab_type": "text"
      },
      "source": [
        "<a href=\"https://colab.research.google.com/github/DDKALEB/biblioteca_pandas_dnc/blob/main/Declaracao_de_matrizes.ipynb\" target=\"_parent\"><img src=\"https://colab.research.google.com/assets/colab-badge.svg\" alt=\"Open In Colab\"/></a>"
      ]
    },
    {
      "cell_type": "markdown",
      "source": [
        "Exercício 1Dada a matriz XADREZ [8X8], escreva um algoritmo usando laço encadeado para preencher a matriz, conforme a figura a seguir:"
      ],
      "metadata": {
        "id": "aJHFhg5epZ9n"
      }
    },
    {
      "cell_type": "code",
      "execution_count": 1,
      "metadata": {
        "colab": {
          "base_uri": "https://localhost:8080/"
        },
        "id": "s__jrnhnpPt4",
        "outputId": "cba3dbe8-033a-4055-8151-c8df7ae2a06b"
      },
      "outputs": [
        {
          "output_type": "stream",
          "name": "stdout",
          "text": [
            "X   X   X   X  \n",
            "  X   X   X   X\n",
            "X   X   X   X  \n",
            "  X   X   X   X\n",
            "X   X   X   X  \n",
            "  X   X   X   X\n",
            "X   X   X   X  \n",
            "  X   X   X   X\n"
          ]
        }
      ],
      "source": [
        "#\n",
        "# Declaração da matriz\n",
        "matriz = [[\"\" for _ in range(8)] for _ in range(8)]\n",
        "\n",
        "# Preenchimento da matriz\n",
        "for i in range(8):\n",
        "    for j in range(8):\n",
        "        if (i + j) % 2 == 0:\n",
        "            matriz[i][j] = \"X\"\n",
        "        else:\n",
        "            matriz[i][j] = \" \"\n",
        "\n",
        "# Exibição da matriz\n",
        "for linha in matriz:\n",
        "    print(\" \".join(linha))"
      ]
    },
    {
      "cell_type": "markdown",
      "source": [
        "Exercício 2Dada  a  matriz  RETANGULO  [14x11],  escreva  um  algoritmo  usando  laço  encadeado  para  preencher a matriz, conforme a figura a seguir:"
      ],
      "metadata": {
        "id": "q5ujalmppt8d"
      }
    },
    {
      "cell_type": "code",
      "source": [
        "# Declaração da matriz\n",
        "retangulo = [[\"\" for _ in range(11)] for _ in range(14)]\n",
        "\n",
        "# Preenchimento da matriz\n",
        "for i in range(14):\n",
        "    for j in range(11):\n",
        "        if i < 7:\n",
        "            if j < 5:\n",
        "                retangulo[i][j] = \"*\"\n",
        "            else:\n",
        "                retangulo[i][j] = \" \"\n",
        "        else:\n",
        "            if j < 8:\n",
        "                retangulo[i][j] = \"*\"\n",
        "            else:\n",
        "                retangulo[i][j] = \" \"\n",
        "\n",
        "# Exibição da matriz\n",
        "for linha in retangulo:\n",
        "    print(\" \".join(linha))"
      ],
      "metadata": {
        "colab": {
          "base_uri": "https://localhost:8080/"
        },
        "id": "VouTNTmbpnkM",
        "outputId": "daa8b9bf-4b3c-46ec-823f-8fad9e172293"
      },
      "execution_count": 2,
      "outputs": [
        {
          "output_type": "stream",
          "name": "stdout",
          "text": [
            "* * * * *            \n",
            "* * * * *            \n",
            "* * * * *            \n",
            "* * * * *            \n",
            "* * * * *            \n",
            "* * * * *            \n",
            "* * * * *            \n",
            "* * * * * * * *      \n",
            "* * * * * * * *      \n",
            "* * * * * * * *      \n",
            "* * * * * * * *      \n",
            "* * * * * * * *      \n",
            "* * * * * * * *      \n",
            "* * * * * * * *      \n"
          ]
        }
      ]
    },
    {
      "cell_type": "code",
      "source": [
        "# Inicializa a matriz de 14x11 com espaços vazios\n",
        "matriz = [[' ' for _ in range(11)] for _ in range(14)]\n",
        "\n",
        "# Laço para preencher o retângulo central com \"R\"\n",
        "for i in range(3, 13):  # Linhas 4 a 10 (índices 3 a 9)\n",
        "    for j in range(3, 9):  # Colunas 3 a 9 (índices 2 a 8)\n",
        "        matriz[i][j] = 'R'\n",
        "\n",
        "# Exibir a matriz\n",
        "for linha in matriz:\n",
        "    print(' '.join(linha))\n"
      ],
      "metadata": {
        "colab": {
          "base_uri": "https://localhost:8080/"
        },
        "id": "z8duWS4pqOuo",
        "outputId": "312e6f0e-5b5e-4897-fdab-051e54a5d715"
      },
      "execution_count": 12,
      "outputs": [
        {
          "output_type": "stream",
          "name": "stdout",
          "text": [
            "                     \n",
            "                     \n",
            "                     \n",
            "      R R R R R R    \n",
            "      R R R R R R    \n",
            "      R R R R R R    \n",
            "      R R R R R R    \n",
            "      R R R R R R    \n",
            "      R R R R R R    \n",
            "      R R R R R R    \n",
            "      R R R R R R    \n",
            "      R R R R R R    \n",
            "      R R R R R R    \n",
            "                     \n"
          ]
        }
      ]
    },
    {
      "cell_type": "markdown",
      "source": [
        "Explicação do código:\n",
        "Inicialização da matriz: Cria-se uma matriz de 14 linhas e 11 colunas, inicialmente preenchida com espaços em branco (' ').\n",
        "\n",
        "Laços aninhados: O primeiro laço controla as linhas, e o segundo controla as colunas. Eles delimitam a área do retângulo, ou seja, das linhas 4 a 10 (índices 3 a 9) e das colunas 3 a 9 (índices 2 a 8), que serão preenchidas com o caractere \"R\".\n",
        "\n",
        "Exibição: Após o preenchimento, a matriz é impressa linha por linha, separando os elementos por espaço (' ').\n",
        "\n",
        "Ao executar o código, ele preencherá a parte central da matriz conforme a imagem fornecida."
      ],
      "metadata": {
        "id": "TDuaVZ6VqWai"
      }
    },
    {
      "cell_type": "code",
      "source": [
        "# Declaração da matriz com dimensões 14x11\n",
        "RETANGULO = [[\" \" for c in range(11)] for l in range(14)]\n",
        "\n",
        "# Laço encadeado para preencher o retângulo com 'R'\n",
        "for l in range(3, 11):  # L começa em 3 e vai até 10\n",
        "    for c in range(3, 8):  # C começa em 3 e vai até 7\n",
        "        RETANGULO[l][c] = \"R\"\n",
        "\n",
        "# Exibição da matriz preenchida\n",
        "for linha in RETANGULO:\n",
        "    print(\" \".join(linha))\n"
      ],
      "metadata": {
        "colab": {
          "base_uri": "https://localhost:8080/"
        },
        "id": "U96IbJh7qxma",
        "outputId": "2f453b9d-9ea4-4342-8f18-31ff0eb71c86"
      },
      "execution_count": 4,
      "outputs": [
        {
          "output_type": "stream",
          "name": "stdout",
          "text": [
            "                     \n",
            "                     \n",
            "                     \n",
            "      R R R R R      \n",
            "      R R R R R      \n",
            "      R R R R R      \n",
            "      R R R R R      \n",
            "      R R R R R      \n",
            "      R R R R R      \n",
            "      R R R R R      \n",
            "      R R R R R      \n",
            "                     \n",
            "                     \n",
            "                     \n"
          ]
        }
      ]
    },
    {
      "cell_type": "code",
      "source": [
        "A = 1\n",
        "B = 2\n",
        "C = 3\n",
        "\n",
        "A = (B + C) / 2  # MÉDIA (B, C, A)\n",
        "A = B + C  # SOMAR (B, C, A)\n",
        "A = (B + A) / 2  # MÉDIA (B, C, A)\n",
        "A, B = B, A  # TROCAR (A, B)\n",
        "C = A + B  # SOMAR (A, B, C)\n",
        "A = (A + C) / 2  # MÉDIA (A, B, C)\n",
        "A, B = B, A  # TROCAR (A, B)\n",
        "C = (C + A) / 2  # MÉDIA (C, A, B)\n",
        "\n",
        "print(\"A =\", A)\n",
        "print(\"B =\", B)\n",
        "print(\"C =\", C)"
      ],
      "metadata": {
        "colab": {
          "base_uri": "https://localhost:8080/"
        },
        "id": "A6uLbI1Mtq4u",
        "outputId": "1b44dce1-3c13-4095-ef9f-ae332a29cd88"
      },
      "execution_count": 13,
      "outputs": [
        {
          "output_type": "stream",
          "name": "stdout",
          "text": [
            "A = 3.5\n",
            "B = 3.75\n",
            "C = 4.5\n"
          ]
        }
      ]
    },
    {
      "cell_type": "code",
      "source": [
        "cargos = {\n",
        "    1: \"Desenvolvedor\",\n",
        "    2: \"Analista\",\n",
        "    3: \"Gerente\",\n",
        "    4: \"Diretor\",\n",
        "    # ...\n",
        "    100: \"CEO\"\n",
        "}\n",
        "\n",
        "\n",
        "def checacodigo(codcarg):\n",
        "    if 1 <= codcarg <= 100:\n",
        "        return 1\n",
        "    else:\n",
        "        print(\"Erro: Código de cargo inválido!\")\n",
        "        return 0\n",
        "\n",
        "codcarg = int(input(\"Digite o código de um cargo: \"))\n",
        "validacao = checacodigo(codcarg)\n",
        "\n",
        "if validacao > 0:\n",
        "    # Buscar a descrição do cargo na tabela de cargos\n",
        "    # (suponha que a tabela de cargos esteja armazenada em um dicionário)\n",
        "    cargos = {}\n",
        "    for i in range(1, 101):\n",
        "        cargos[i] = f\"Cargo {i}\"\n",
        "    descricao_cargo = cargos.get(codcarg, \"Cargo não encontrado!\")\n",
        "    print(\"Descrição do cargo:\", descricao_cargo)\n",
        "else:\n",
        "    print(\"Erro: Código de cargo inválido!\")"
      ],
      "metadata": {
        "colab": {
          "base_uri": "https://localhost:8080/"
        },
        "collapsed": true,
        "id": "Pf3gMRsJt_Sv",
        "outputId": "db7ca168-3f29-46ec-ab3d-32c80de3bcad"
      },
      "execution_count": 19,
      "outputs": [
        {
          "output_type": "stream",
          "name": "stdout",
          "text": [
            "Digite o código de um cargo: 100\n",
            "Descrição do cargo: Cargo 100\n"
          ]
        }
      ]
    },
    {
      "cell_type": "code",
      "source": [
        "def checacodigo(codcarg):\n",
        "    if 1 <= codcarg <= 100:\n",
        "        return 1\n",
        "    else:\n",
        "        print(\"Erro: Código de cargo inválido!\")\n",
        "        return 0\n",
        "\n",
        "codcarg = int(input(\"Digite o código de um cargo: \"))\n",
        "validacao = checacodigo(codcarg)\n",
        "\n",
        "if validacao > 0:\n",
        "    # Buscar a descrição do cargo na tabela de cargos\n",
        "    # (suponha que a tabela de cargos esteja armazenada em um dicionário)\n",
        "    cargos = {}\n",
        "    for i in range(1, 101):\n",
        "        cargos[i] = f\"Cargo {i}\"\n",
        "    descricao_cargo = cargos.get(codcarg, \"Cargo não encontrado!\")\n",
        "    print(\"Descrição do cargo:\", descricao_cargo)\n",
        "else:\n",
        "    print(\"Erro: Código de cargo inválido!\")"
      ],
      "metadata": {
        "colab": {
          "base_uri": "https://localhost:8080/"
        },
        "id": "UY29e8rsvDvI",
        "outputId": "8dbd9d81-fbc4-4042-bdcf-6a0c9fd0ebcb"
      },
      "execution_count": 20,
      "outputs": [
        {
          "output_type": "stream",
          "name": "stdout",
          "text": [
            "Digite o código de um cargo: 1\n",
            "Descrição do cargo: Cargo 1\n"
          ]
        }
      ]
    }
  ]
}