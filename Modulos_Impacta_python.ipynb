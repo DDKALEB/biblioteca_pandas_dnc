{
  "nbformat": 4,
  "nbformat_minor": 0,
  "metadata": {
    "colab": {
      "provenance": [],
      "authorship_tag": "ABX9TyMopeUUxit4HX8/INSWmtiX",
      "include_colab_link": true
    },
    "kernelspec": {
      "name": "python3",
      "display_name": "Python 3"
    },
    "language_info": {
      "name": "python"
    }
  },
  "cells": [
    {
      "cell_type": "markdown",
      "metadata": {
        "id": "view-in-github",
        "colab_type": "text"
      },
      "source": [
        "<a href=\"https://colab.research.google.com/github/DDKALEB/biblioteca_pandas_dnc/blob/main/Modulos_Impacta_python.ipynb\" target=\"_parent\"><img src=\"https://colab.research.google.com/assets/colab-badge.svg\" alt=\"Open In Colab\"/></a>"
      ]
    },
    {
      "cell_type": "markdown",
      "source": [
        "Em Python, módulos são arquivos que contêm definições e implementações de funções, classes e variáveis que podem ser reutilizados em outros programas. Cada módulo em Python é um arquivo com a extensão .py. Esses módulos ajudam a organizar o código, facilitando a manutenção, reutilização e evitando a repetição.\n",
        "\n",
        "Existem três tipos principais de módulos em Python:\n",
        "\n",
        "Módulos embutidos (built-in): São aqueles que fazem parte da biblioteca padrão do Python e estão disponíveis sem a necessidade de instalação ou importação adicional. Exemplos incluem math, os, sys, etc.\n",
        "\n",
        "Módulos de terceiros: São pacotes e bibliotecas criados por desenvolvedores e disponibilizados através de ferramentas como o pip. Esses módulos são instalados separadamente. Exemplos incluem numpy, pandas, requests, etc.\n",
        "\n",
        "Módulos definidos pelo usuário: São arquivos .py que você cria, contendo funções e classes que podem ser importados e usados em outros arquivos Python. Por exemplo, se você tiver um arquivo meu_modulo.py com uma função soma(), você pode importá-lo e utilizá-lo em outro script.\n",
        "\n",
        "Como usar um módulo em Python\n",
        "Você pode importar módulos usando a palavra-chave import:"
      ],
      "metadata": {
        "id": "IJzsakgAzUUw"
      }
    },
    {
      "cell_type": "code",
      "execution_count": null,
      "metadata": {
        "colab": {
          "base_uri": "https://localhost:8080/"
        },
        "id": "r6OsKkHmymed",
        "outputId": "f05b67ee-5ad6-4428-9b1b-72b8dd5f7080"
      },
      "outputs": [
        {
          "output_type": "stream",
          "name": "stdout",
          "text": [
            "5.0\n"
          ]
        }
      ],
      "source": [
        "import math\n",
        "\n",
        "# Usando uma função do módulo math\n",
        "resultado = math.sqrt(25)\n",
        "print(resultado)  # Saída: 5.0\n"
      ]
    },
    {
      "cell_type": "code",
      "source": [
        "#Ou importar apenas partes específicas de um módulo:\n",
        "from math import sqrt\n",
        "\n",
        "resultado = sqrt(25)\n",
        "print(resultado)  # Saída: 5.0\n"
      ],
      "metadata": {
        "colab": {
          "base_uri": "https://localhost:8080/"
        },
        "id": "IlpI-CyazqB2",
        "outputId": "aff32a17-f1b5-4395-f3b6-173631516256"
      },
      "execution_count": null,
      "outputs": [
        {
          "output_type": "stream",
          "name": "stdout",
          "text": [
            "5.0\n"
          ]
        }
      ]
    },
    {
      "cell_type": "code",
      "source": [
        "#Além disso, você pode criar seus próprios módulos e utilizá-los em outros programas:\n",
        "# Conteúdo do arquivo meu_modulo.py\n",
        "def soma(a, b):\n",
        "    return a + b\n",
        "\n",
        "#E depois, em outro arquivo:\n",
        "import meu_modulo #exemplo\n",
        "\n",
        "resultado = meu_modulo.soma(5, 3)\n",
        "print(resultado)  # Saída: 8\n",
        "\n"
      ],
      "metadata": {
        "colab": {
          "base_uri": "https://localhost:8080/",
          "height": 383
        },
        "collapsed": true,
        "id": "aDWOmxRKzwGs",
        "outputId": "3927b3ec-7fa6-42f4-d754-f3c6aa39a152"
      },
      "execution_count": null,
      "outputs": [
        {
          "output_type": "error",
          "ename": "ModuleNotFoundError",
          "evalue": "No module named 'meu_modulo'",
          "traceback": [
            "\u001b[0;31m---------------------------------------------------------------------------\u001b[0m",
            "\u001b[0;31mModuleNotFoundError\u001b[0m                       Traceback (most recent call last)",
            "\u001b[0;32m<ipython-input-5-6f603cb79b9a>\u001b[0m in \u001b[0;36m<cell line: 7>\u001b[0;34m()\u001b[0m\n\u001b[1;32m      5\u001b[0m \u001b[0;34m\u001b[0m\u001b[0m\n\u001b[1;32m      6\u001b[0m \u001b[0;31m#E depois, em outro arquivo:\u001b[0m\u001b[0;34m\u001b[0m\u001b[0;34m\u001b[0m\u001b[0m\n\u001b[0;32m----> 7\u001b[0;31m \u001b[0;32mimport\u001b[0m \u001b[0mmeu_modulo\u001b[0m\u001b[0;34m\u001b[0m\u001b[0;34m\u001b[0m\u001b[0m\n\u001b[0m\u001b[1;32m      8\u001b[0m \u001b[0;34m\u001b[0m\u001b[0m\n\u001b[1;32m      9\u001b[0m \u001b[0mresultado\u001b[0m \u001b[0;34m=\u001b[0m \u001b[0mmeu_modulo\u001b[0m\u001b[0;34m.\u001b[0m\u001b[0msoma\u001b[0m\u001b[0;34m(\u001b[0m\u001b[0;36m5\u001b[0m\u001b[0;34m,\u001b[0m \u001b[0;36m3\u001b[0m\u001b[0;34m)\u001b[0m\u001b[0;34m\u001b[0m\u001b[0;34m\u001b[0m\u001b[0m\n",
            "\u001b[0;31mModuleNotFoundError\u001b[0m: No module named 'meu_modulo'",
            "",
            "\u001b[0;31m---------------------------------------------------------------------------\u001b[0;32m\nNOTE: If your import is failing due to a missing package, you can\nmanually install dependencies using either !pip or !apt.\n\nTo view examples of installing some common dependencies, click the\n\"Open Examples\" button below.\n\u001b[0;31m---------------------------------------------------------------------------\u001b[0m\n"
          ],
          "errorDetails": {
            "actions": [
              {
                "action": "open_url",
                "actionText": "Open Examples",
                "url": "/notebooks/snippets/importing_libraries.ipynb"
              }
            ]
          }
        }
      ]
    },
    {
      "cell_type": "markdown",
      "metadata": {
        "id": "kDn_lVxg3Z2G"
      },
      "source": [
        "# Importing a library that is not in Colaboratory\n",
        "\n",
        "To import a library that's not in Colaboratory by default, you can use `!pip install` or `!apt-get install`."
      ]
    },
    {
      "cell_type": "code",
      "execution_count": null,
      "metadata": {
        "id": "GQ18Kd5F3uKe"
      },
      "outputs": [],
      "source": [
        "!pip install matplotlib-venn"
      ]
    },
    {
      "cell_type": "code",
      "execution_count": null,
      "metadata": {
        "id": "__3eqm3q3sr-"
      },
      "outputs": [],
      "source": [
        "!apt-get -qq install -y libfluidsynth1"
      ]
    },
    {
      "cell_type": "markdown",
      "metadata": {
        "id": "apoRbfWsRZ7S"
      },
      "source": [
        "# Install 7zip reader [libarchive](https://pypi.python.org/pypi/libarchive)"
      ]
    },
    {
      "cell_type": "code",
      "execution_count": null,
      "metadata": {
        "id": "d_j7nNbKRmhx"
      },
      "outputs": [],
      "source": [
        "# https://pypi.python.org/pypi/libarchive\n",
        "!apt-get -qq install -y libarchive-dev && pip install -U libarchive\n",
        "import libarchive"
      ]
    },
    {
      "cell_type": "markdown",
      "metadata": {
        "id": "PeaSX9KXR58J"
      },
      "source": [
        "# Install GraphViz & [PyDot](https://pypi.python.org/pypi/pydot)"
      ]
    },
    {
      "cell_type": "code",
      "execution_count": null,
      "metadata": {
        "id": "w9llCG2wSRDx"
      },
      "outputs": [],
      "source": [
        "# https://pypi.python.org/pypi/pydot\n",
        "!apt-get -qq install -y graphviz && pip install pydot\n",
        "import pydot"
      ]
    },
    {
      "cell_type": "markdown",
      "metadata": {
        "id": "Tlh1MKxGrKFO"
      },
      "source": [
        "# Install [cartopy](http://scitools.org.uk/cartopy/docs/latest/)"
      ]
    },
    {
      "cell_type": "code",
      "execution_count": null,
      "metadata": {
        "id": "Zq68DSY2rP2W"
      },
      "outputs": [],
      "source": [
        "!pip install cartopy\n",
        "import cartopy"
      ]
    },
    {
      "cell_type": "markdown",
      "source": [
        "Qual a forma correta para utilizar um módulo no seu sistema?"
      ],
      "metadata": {
        "id": "MDWlpCgI0-vR"
      }
    },
    {
      "cell_type": "markdown",
      "source": [
        "Para utilizar corretamente um módulo no seu sistema Python, existem boas práticas que ajudam a manter o código organizado, eficiente e fácil de manter. Aqui estão os passos e recomendações para utilizar um módulo da maneira correta:\n",
        "\n",
        "1. Importe apenas o que você precisa\n",
        "Se você precisa de apenas uma ou algumas funções/classe de um módulo, é recomendado importar apenas o que vai ser usado. Isso economiza memória e melhora a clareza do código.\n",
        "Exemplo:"
      ],
      "metadata": {
        "id": "_9I5sX-k1EAx"
      }
    },
    {
      "cell_type": "code",
      "source": [
        "from math import sqrt\n"
      ],
      "metadata": {
        "id": "v3C3vxlt05jm"
      },
      "execution_count": null,
      "outputs": []
    },
    {
      "cell_type": "code",
      "source": [
        "#Se você importar o módulo completo, deve referenciar seus elementos com o nome do módulo:\n",
        "import math\n",
        "resultado = math.sqrt(25)\n",
        "#Mas ao importar apenas a função necessária:\n",
        "from math import sqrt\n",
        "resultado = sqrt(25)\n"
      ],
      "metadata": {
        "id": "U_m9A4HX1NNb"
      },
      "execution_count": null,
      "outputs": []
    },
    {
      "cell_type": "markdown",
      "source": [
        "2. Evite import *\n",
        "O uso de import * (que importa todas as funções, classes e variáveis de um módulo) é geralmente desencorajado, pois pode levar a conflitos de nomes e tornar o código menos legível.\n",
        "Exemplo de má prática:"
      ],
      "metadata": {
        "id": "DMIXYFpE1pN5"
      }
    },
    {
      "cell_type": "code",
      "source": [
        "from math import *\n",
        "#Melhor abordagem:\n",
        "\n",
        "from math import sqrt, pi"
      ],
      "metadata": {
        "id": "5ePcTPds1qtZ"
      },
      "execution_count": null,
      "outputs": []
    },
    {
      "cell_type": "markdown",
      "source": [
        "3. Organize as importações\n",
        "Coloque todas as importações no topo do arquivo, logo após os comentários iniciais ou a documentação do módulo, mas antes de qualquer outro código.\n",
        "Siga esta ordem ao organizar suas importações:\n",
        "Módulos embutidos (biblioteca padrão)\n",
        "Módulos de terceiros (instalados via pip)\n",
        "Módulos definidos pelo usuário\n",
        "Exemplo de organização:"
      ],
      "metadata": {
        "id": "nQPOnHP118qX"
      }
    },
    {
      "cell_type": "code",
      "source": [
        "import os  # Módulo embutido\n",
        "import numpy as np  # Módulo de terceiros\n",
        "from meu_modulo import soma  # Módulo criado pelo usuário\n"
      ],
      "metadata": {
        "colab": {
          "base_uri": "https://localhost:8080/",
          "height": 349
        },
        "collapsed": true,
        "id": "RQvj_rEE1-VS",
        "outputId": "09f4a432-4e26-4120-e29e-6ad093bd8715"
      },
      "execution_count": null,
      "outputs": [
        {
          "output_type": "error",
          "ename": "ModuleNotFoundError",
          "evalue": "No module named 'meu_modulo'",
          "traceback": [
            "\u001b[0;31m---------------------------------------------------------------------------\u001b[0m",
            "\u001b[0;31mModuleNotFoundError\u001b[0m                       Traceback (most recent call last)",
            "\u001b[0;32m<ipython-input-9-8ba5ce51b6bf>\u001b[0m in \u001b[0;36m<cell line: 3>\u001b[0;34m()\u001b[0m\n\u001b[1;32m      1\u001b[0m \u001b[0;32mimport\u001b[0m \u001b[0mos\u001b[0m  \u001b[0;31m# Módulo embutido\u001b[0m\u001b[0;34m\u001b[0m\u001b[0;34m\u001b[0m\u001b[0m\n\u001b[1;32m      2\u001b[0m \u001b[0;32mimport\u001b[0m \u001b[0mnumpy\u001b[0m \u001b[0;32mas\u001b[0m \u001b[0mnp\u001b[0m  \u001b[0;31m# Módulo de terceiros\u001b[0m\u001b[0;34m\u001b[0m\u001b[0;34m\u001b[0m\u001b[0m\n\u001b[0;32m----> 3\u001b[0;31m \u001b[0;32mfrom\u001b[0m \u001b[0mmeu_modulo\u001b[0m \u001b[0;32mimport\u001b[0m \u001b[0msoma\u001b[0m  \u001b[0;31m# Módulo criado pelo usuário\u001b[0m\u001b[0;34m\u001b[0m\u001b[0;34m\u001b[0m\u001b[0m\n\u001b[0m",
            "\u001b[0;31mModuleNotFoundError\u001b[0m: No module named 'meu_modulo'",
            "",
            "\u001b[0;31m---------------------------------------------------------------------------\u001b[0;32m\nNOTE: If your import is failing due to a missing package, you can\nmanually install dependencies using either !pip or !apt.\n\nTo view examples of installing some common dependencies, click the\n\"Open Examples\" button below.\n\u001b[0;31m---------------------------------------------------------------------------\u001b[0m\n"
          ],
          "errorDetails": {
            "actions": [
              {
                "action": "open_url",
                "actionText": "Open Examples",
                "url": "/notebooks/snippets/importing_libraries.ipynb"
              }
            ]
          }
        }
      ]
    },
    {
      "cell_type": "markdown",
      "source": [
        "4. Use aliases para módulos grandes ou complexos\n",
        "Para melhorar a legibilidade do código, você pode usar aliases (apelidos) com a palavra-chave as. Isso é útil em módulos com nomes longos ou frequentemente utilizados.\n",
        "Exemplo:"
      ],
      "metadata": {
        "id": "fkqttiWT2Ilh"
      }
    },
    {
      "cell_type": "code",
      "source": [
        "import numpy as np\n",
        "import pandas as pd\n"
      ],
      "metadata": {
        "id": "zLpVclh_2JqT"
      },
      "execution_count": null,
      "outputs": []
    },
    {
      "cell_type": "markdown",
      "source": [
        "Agora você pode usar np ao invés de numpy e pd ao invés de pandas.\n",
        "\n",
        "5. Instale os módulos de terceiros corretamente\n",
        "Para instalar e utilizar módulos de terceiros, use o gerenciador de pacotes pip. Isso garante que o módulo está disponível em seu ambiente Python.\n",
        "Exemplo de instalação de um módulo:"
      ],
      "metadata": {
        "id": "ZOET2X4s2MoS"
      }
    },
    {
      "cell_type": "code",
      "source": [
        "pip install requests\n",
        "#Depois de instalado, você pode usá-lo normalmente no código:\n",
        "\n",
        "import requests\n",
        "\n",
        "response = requests.get('https://example.com')"
      ],
      "metadata": {
        "id": "qNWN5cvF2RDB"
      },
      "execution_count": null,
      "outputs": []
    },
    {
      "cell_type": "markdown",
      "source": [
        "6. Gerencie dependências com um arquivo requirements.txt\n",
        "Em projetos maiores, é uma boa prática listar todas as dependências (módulos de terceiros) em um arquivo requirements.txt. Isso facilita para outras pessoas ou para ambientes de produção instalarem as dependências corretas.\n",
        "Exemplo de arquivo requirements.txt:\n"
      ],
      "metadata": {
        "id": "9IJWt-jW2iaV"
      }
    },
    {
      "cell_type": "code",
      "source": [
        "numpy==1.23.1\n",
        "pandas==1.5.0\n",
        "requests==2.28.1\n",
        "#Para instalar as dependências listadas\n",
        "\n",
        "#pip install -r requirements.txt"
      ],
      "metadata": {
        "id": "LYbinO9l2j36"
      },
      "execution_count": null,
      "outputs": []
    },
    {
      "cell_type": "code",
      "source": [
        "\n",
        "\n",
        "#7. Documentação e comentários\n",
        "#Documente o uso dos módulos, especialmente se você criar seus próprios módulos. Adicione docstrings (\"\"\" descrição \"\"\") às funções e classes para descrever o que elas fazem.\n",
        "#Exemplo:\n",
        "\n",
        "def soma(a, b):\n",
        "    \"\"\"Retorna a soma de dois números.\"\"\"\n",
        "    return a + b\n",
        "\n",
        "#8. Teste seus módulos\n",
        "#Se você está criando seus próprios módulos, é uma boa prática incluir testes para garantir que eles funcionem corretamente. Você pode fazer isso com bibliotecas como unittest ou pytest.\n",
        "#Exemplo Completo de Boas Práticas\n",
        "\n",
        "import sys\n",
        "    sys.path.append('/path/to/my_modules')  # Replace with the actual path\n",
        "\n",
        "# Importações no topo do arquivo\n",
        "import os  # Módulo embutido\n",
        "import numpy as np  # Módulo de terceiros\n",
        "from meu_modulo import soma  # Módulo criado pelo usuário\n",
        "\n",
        "def calcular_area_circulo(raio):\n",
        "    \"\"\"Calcula a área de um círculo dado o raio.\"\"\"\n",
        "    return np.pi * (raio ** 2)\n",
        "\n",
        "# Uso do módulo criado\n",
        "resultado = soma(5, 10)\n",
        "print(f\"Soma: {resultado}\")\n",
        "\n",
        "# Uso de uma função de um módulo de terceiros\n",
        "area = calcular_area_circulo(5)\n",
        "print(f\"Área do círculo: {area}\")"
      ],
      "metadata": {
        "colab": {
          "base_uri": "https://localhost:8080/",
          "height": 106
        },
        "collapsed": true,
        "id": "gmxx0bra2tja",
        "outputId": "4cf09a05-de61-4ff4-e928-94139006e202"
      },
      "execution_count": null,
      "outputs": [
        {
          "output_type": "error",
          "ename": "IndentationError",
          "evalue": "unexpected indent (<ipython-input-11-045cbcb345a8>, line 14)",
          "traceback": [
            "\u001b[0;36m  File \u001b[0;32m\"<ipython-input-11-045cbcb345a8>\"\u001b[0;36m, line \u001b[0;32m14\u001b[0m\n\u001b[0;31m    sys.path.append('/path/to/my_modules')  # Replace with the actual path\u001b[0m\n\u001b[0m    ^\u001b[0m\n\u001b[0;31mIndentationError\u001b[0m\u001b[0;31m:\u001b[0m unexpected indent\n"
          ]
        }
      ]
    }
  ]
}