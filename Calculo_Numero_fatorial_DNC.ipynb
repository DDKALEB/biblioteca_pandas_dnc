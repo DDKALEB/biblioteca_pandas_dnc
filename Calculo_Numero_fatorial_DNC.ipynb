{
  "nbformat": 4,
  "nbformat_minor": 0,
  "metadata": {
    "colab": {
      "provenance": [],
      "authorship_tag": "ABX9TyNSquN8LZt91fDUdCZ/qcB7",
      "include_colab_link": true
    },
    "kernelspec": {
      "name": "python3",
      "display_name": "Python 3"
    },
    "language_info": {
      "name": "python"
    }
  },
  "cells": [
    {
      "cell_type": "markdown",
      "metadata": {
        "id": "view-in-github",
        "colab_type": "text"
      },
      "source": [
        "<a href=\"https://colab.research.google.com/github/DDKALEB/biblioteca_pandas_dnc/blob/main/Calculo_Numero_fatorial_DNC.ipynb\" target=\"_parent\"><img src=\"https://colab.research.google.com/assets/colab-badge.svg\" alt=\"Open In Colab\"/></a>"
      ]
    },
    {
      "cell_type": "code",
      "execution_count": null,
      "metadata": {
        "id": "ihYaXcIgc-U6",
        "outputId": "132774bd-ee3b-445b-f89b-0054c21ea2b2",
        "colab": {
          "base_uri": "https://localhost:8080/"
        }
      },
      "outputs": [
        {
          "output_type": "stream",
          "name": "stdout",
          "text": [
            "Digite um número para calcular o fatorial: 5\n",
            "O fatorial de 5 é 120\n"
          ]
        }
      ],
      "source": [
        "# Solicita ao usuário um número\n",
        "N = int(input(\"Digite um número para calcular o fatorial: \"))\n",
        "\n",
        "# Inicializa as variáveis i e F\n",
        "i = N\n",
        "F = 1\n",
        "\n",
        "# Loop para calcular o fatorial\n",
        "while i > 1:\n",
        "    F = F * i\n",
        "    i = i - 1\n",
        "\n",
        "# Exibe o resultado\n",
        "print(f\"O fatorial de {N} é {F}\")\n"
      ]
    }
  ]
}